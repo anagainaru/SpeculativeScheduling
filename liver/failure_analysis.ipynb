{
 "cells": [
  {
   "cell_type": "code",
   "execution_count": 2,
   "metadata": {},
   "outputs": [],
   "source": [
    "import numpy as np\n",
    "import pandas as pd\n",
    "import seaborn as sns; sns.set()\n",
    "import matplotlib.pyplot as plt\n",
    "import matplotlib.colors as mcolors\n",
    "from datetime import datetime"
   ]
  },
  {
   "cell_type": "code",
   "execution_count": 3,
   "metadata": {},
   "outputs": [],
   "source": [
    "import sys\n",
    "sys.path.append(\"../iSBatch\")\n",
    "import iSBatch as rqs"
   ]
  },
  {
   "cell_type": "code",
   "execution_count": 4,
   "metadata": {},
   "outputs": [],
   "source": [
    "color_list = [i for i in mcolors.TABLEAU_COLORS]\n",
    "marker_list = [\"o\", \"x\"]"
   ]
  },
  {
   "cell_type": "markdown",
   "metadata": {},
   "source": [
    "# Analyze the VU log\n",
    "### Resource underestimation statistics"
   ]
  },
  {
   "cell_type": "code",
   "execution_count": 5,
   "metadata": {},
   "outputs": [],
   "source": [
    "def time_converter(data):\n",
    "    x = data.split('-')\n",
    "    if len(x)==1:\n",
    "        d = 0\n",
    "        x = x[0]\n",
    "    else:\n",
    "        d = int(x[0])\n",
    "        x = x[1]\n",
    "    h,m,s = map(int,x.split(':'))\n",
    "    return (d*24 + h)*60 + m + s/60"
   ]
  },
  {
   "cell_type": "code",
   "execution_count": 6,
   "metadata": {},
   "outputs": [],
   "source": [
    "def memory_size_converter(size):\n",
    "    num = float(size.rstrip('K'))\n",
    "    return num / 1024"
   ]
  },
  {
   "cell_type": "code",
   "execution_count": 7,
   "metadata": {},
   "outputs": [
    {
     "data": {
      "text/plain": [
       "['7106651',\n",
       " 'COMPLETED',\n",
       " 60.0,\n",
       " '2019-03-13T15:24:22',\n",
       " '2019-03-13T15:40:19',\n",
       " 15.95,\n",
       " 9999.65625,\n",
       " 141.05859375,\n",
       " '1',\n",
       " '1',\n",
       " 'liver_ai_+']"
      ]
     },
     "execution_count": 7,
     "metadata": {},
     "output_type": "execute_result"
    }
   ],
   "source": [
    "inf = open(\"liver_ai_job_stats.txt\", \"r\")\n",
    "data = [] \n",
    "for line2 in inf:\n",
    "    line2 = line2.split(\"\\n\")[0].split(\" \")\n",
    "    line = [i for i in line2 if i!=\"\"]\n",
    "    if len(line)<2:\n",
    "        print(line2, line)\n",
    "    if line[0] == 'imgvuacr':\n",
    "        data.append([line[1], line[4], time_converter(line[5]),\n",
    "                     line[6], line[7], time_converter(line[8]),\n",
    "                     0, 0, line[9], line[10], line[2]])\n",
    "    if line[1] == 'batch':\n",
    "        if line[6][-1] == 'K' and line[7][-1] == 'K':\n",
    "            data[-1][6] = memory_size_converter(line[6])\n",
    "            data[-1][7] = memory_size_converter(line[7])\n",
    "    if line[1] == 'extern':\n",
    "        if line[2] != data[-1][1]:\n",
    "            if data[-1][1] != 'TIMEOUT':\n",
    "                #print(data[-1][0], \"extern\", line[2], data[-1][1])\n",
    "                data[-1][1] = line[2]\n",
    "        if data[-1][6] == 0 and data[-1][7] == 0:\n",
    "            data[-1][6] = memory_size_converter(line[6])\n",
    "            data[-1][7] = memory_size_converter(line[7])\n",
    "inf.close()\n",
    "data[0]"
   ]
  },
  {
   "cell_type": "code",
   "execution_count": 8,
   "metadata": {},
   "outputs": [
    {
     "data": {
      "text/html": [
       "<div>\n",
       "<style scoped>\n",
       "    .dataframe tbody tr th:only-of-type {\n",
       "        vertical-align: middle;\n",
       "    }\n",
       "\n",
       "    .dataframe tbody tr th {\n",
       "        vertical-align: top;\n",
       "    }\n",
       "\n",
       "    .dataframe thead th {\n",
       "        text-align: right;\n",
       "    }\n",
       "</style>\n",
       "<table border=\"1\" class=\"dataframe\">\n",
       "  <thead>\n",
       "    <tr style=\"text-align: right;\">\n",
       "      <th></th>\n",
       "      <th>JobID</th>\n",
       "      <th>State</th>\n",
       "      <th>Timelimit</th>\n",
       "      <th>Start</th>\n",
       "      <th>End</th>\n",
       "      <th>Elapsed</th>\n",
       "      <th>MaxRSS</th>\n",
       "      <th>MaxVMSize</th>\n",
       "      <th>NNodes</th>\n",
       "      <th>NCPUS</th>\n",
       "      <th>JobName</th>\n",
       "      <th>Memory</th>\n",
       "    </tr>\n",
       "  </thead>\n",
       "  <tbody>\n",
       "    <tr>\n",
       "      <th>0</th>\n",
       "      <td>7106651</td>\n",
       "      <td>COMPLETED</td>\n",
       "      <td>60.0</td>\n",
       "      <td>2019-03-13T15:24:22</td>\n",
       "      <td>2019-03-13T15:40:19</td>\n",
       "      <td>15.950000</td>\n",
       "      <td>9999.656250</td>\n",
       "      <td>141.058594</td>\n",
       "      <td>1</td>\n",
       "      <td>1</td>\n",
       "      <td>liver_ai_+</td>\n",
       "      <td>9.903042</td>\n",
       "    </tr>\n",
       "    <tr>\n",
       "      <th>1</th>\n",
       "      <td>7106946</td>\n",
       "      <td>COMPLETED</td>\n",
       "      <td>60.0</td>\n",
       "      <td>2019-03-13T15:48:31</td>\n",
       "      <td>2019-03-13T16:46:38</td>\n",
       "      <td>58.116667</td>\n",
       "      <td>9999.738281</td>\n",
       "      <td>141.058594</td>\n",
       "      <td>1</td>\n",
       "      <td>1</td>\n",
       "      <td>liver_ai_+</td>\n",
       "      <td>9.903122</td>\n",
       "    </tr>\n",
       "    <tr>\n",
       "      <th>2</th>\n",
       "      <td>7121508</td>\n",
       "      <td>COMPLETED</td>\n",
       "      <td>60.0</td>\n",
       "      <td>2019-03-14T10:31:54</td>\n",
       "      <td>2019-03-14T10:48:22</td>\n",
       "      <td>16.466667</td>\n",
       "      <td>9999.917969</td>\n",
       "      <td>141.078125</td>\n",
       "      <td>1</td>\n",
       "      <td>1</td>\n",
       "      <td>liver_ai_+</td>\n",
       "      <td>9.903316</td>\n",
       "    </tr>\n",
       "    <tr>\n",
       "      <th>3</th>\n",
       "      <td>7121796</td>\n",
       "      <td>COMPLETED</td>\n",
       "      <td>60.0</td>\n",
       "      <td>2019-03-14T10:55:58</td>\n",
       "      <td>2019-03-14T11:10:29</td>\n",
       "      <td>14.516667</td>\n",
       "      <td>9999.683594</td>\n",
       "      <td>141.058594</td>\n",
       "      <td>1</td>\n",
       "      <td>1</td>\n",
       "      <td>liver_ai_+</td>\n",
       "      <td>9.903069</td>\n",
       "    </tr>\n",
       "    <tr>\n",
       "      <th>4</th>\n",
       "      <td>7122856</td>\n",
       "      <td>COMPLETED</td>\n",
       "      <td>60.0</td>\n",
       "      <td>2019-03-14T11:53:13</td>\n",
       "      <td>2019-03-14T12:12:42</td>\n",
       "      <td>19.483333</td>\n",
       "      <td>9999.656250</td>\n",
       "      <td>141.058594</td>\n",
       "      <td>1</td>\n",
       "      <td>1</td>\n",
       "      <td>liver_ai_+</td>\n",
       "      <td>9.903042</td>\n",
       "    </tr>\n",
       "  </tbody>\n",
       "</table>\n",
       "</div>"
      ],
      "text/plain": [
       "     JobID      State  Timelimit                Start                  End  \\\n",
       "0  7106651  COMPLETED       60.0  2019-03-13T15:24:22  2019-03-13T15:40:19   \n",
       "1  7106946  COMPLETED       60.0  2019-03-13T15:48:31  2019-03-13T16:46:38   \n",
       "2  7121508  COMPLETED       60.0  2019-03-14T10:31:54  2019-03-14T10:48:22   \n",
       "3  7121796  COMPLETED       60.0  2019-03-14T10:55:58  2019-03-14T11:10:29   \n",
       "4  7122856  COMPLETED       60.0  2019-03-14T11:53:13  2019-03-14T12:12:42   \n",
       "\n",
       "     Elapsed       MaxRSS   MaxVMSize NNodes NCPUS     JobName    Memory  \n",
       "0  15.950000  9999.656250  141.058594      1     1  liver_ai_+  9.903042  \n",
       "1  58.116667  9999.738281  141.058594      1     1  liver_ai_+  9.903122  \n",
       "2  16.466667  9999.917969  141.078125      1     1  liver_ai_+  9.903316  \n",
       "3  14.516667  9999.683594  141.058594      1     1  liver_ai_+  9.903069  \n",
       "4  19.483333  9999.656250  141.058594      1     1  liver_ai_+  9.903042  "
      ]
     },
     "execution_count": 8,
     "metadata": {},
     "output_type": "execute_result"
    }
   ],
   "source": [
    "df = pd.DataFrame(data, columns=['JobID', 'State', 'Timelimit', 'Start',\n",
    "                                 'End', 'Elapsed', 'MaxRSS', 'MaxVMSize',\n",
    "                                 'NNodes', 'NCPUS', 'JobName'])\n",
    "df = df[df.JobName != 'test.slurm']\n",
    "data = [i for i in data if i[10] != 'test.slurm']\n",
    "df['Memory'] = (df['MaxRSS'] + df['MaxVMSize']) / 1024\n",
    "df.head()"
   ]
  },
  {
   "cell_type": "code",
   "execution_count": 9,
   "metadata": {},
   "outputs": [
    {
     "data": {
      "text/plain": [
       "array(['COMPLETED', 'TIMEOUT', 'CANCELLED'], dtype=object)"
      ]
     },
     "execution_count": 9,
     "metadata": {},
     "output_type": "execute_result"
    }
   ],
   "source": [
    "df[\"State\"].unique()"
   ]
  },
  {
   "cell_type": "code",
   "execution_count": 10,
   "metadata": {},
   "outputs": [
    {
     "name": "stdout",
     "output_type": "stream",
     "text": [
      "COMPLETED jobs: 1549\n",
      "TIMEOUT jobs: 421\n"
     ]
    }
   ],
   "source": [
    "print(\"COMPLETED jobs:\", len(df[df.State==\"COMPLETED\"]))\n",
    "print(\"TIMEOUT jobs:\", len(df[df.State==\"TIMEOUT\"]))"
   ]
  },
  {
   "cell_type": "code",
   "execution_count": 11,
   "metadata": {},
   "outputs": [
    {
     "data": {
      "text/plain": [
       "array([ 60., 120., 180., 240., 360.])"
      ]
     },
     "execution_count": 11,
     "metadata": {},
     "output_type": "execute_result"
    }
   ],
   "source": [
    "df[\"Timelimit\"].unique()"
   ]
  },
  {
   "cell_type": "code",
   "execution_count": 20,
   "metadata": {},
   "outputs": [
    {
     "name": "stdout",
     "output_type": "stream",
     "text": [
      "Timeout with 60 min requests: 133\n",
      "Timeout with 120 min requests: 248\n",
      "Timeout with 180 min requests: 0\n",
      "Timeout with 240 min requests: 20\n",
      "Timeout with 360 min requests: 20\n",
      "Potential resubmissions for the 60 min requests: 508\n",
      "Potential resubmissions for the 120 min requests: 24\n",
      "Potential resubmissions for the 180 min requests: 25\n",
      "Potential resubmissions for the 240 min requests: 0\n",
      "Potential resubmissions for the 360 min requests: 0\n"
     ]
    }
   ],
   "source": [
    "for i in df[\"Timelimit\"].unique():\n",
    "    print(\"Timeout with %d min requests:\" %(i),\n",
    "          len(df[(df.Timelimit == i) & (df.State == \"TIMEOUT\")]))\n",
    "\n",
    "for i in df[\"Timelimit\"].unique():\n",
    "    print(\"Potential resubmissions for the %d min requests:\" %(i),\n",
    "          len(df[(df.Timelimit == i*2) & (df.Elapsed > i)]))"
   ]
  },
  {
   "cell_type": "code",
   "execution_count": 23,
   "metadata": {},
   "outputs": [
    {
     "data": {
      "image/png": "[encoded data removed]",
      "text/plain": [
       "<Figure size 864x576 with 1 Axes>"
      ]
     },
     "metadata": {},
     "output_type": "display_data"
    }
   ],
   "source": [
    "request = df[\"Timelimit\"].drop_duplicates()\n",
    "\n",
    "sns.set(font_scale=2)\n",
    "sns.set_style(\"white\")\n",
    "fig, ax = plt.subplots(figsize=(12,8))\n",
    "\n",
    "# set the request times\n",
    "cnt = 1\n",
    "max_color = len(color_list)\n",
    "for i in request.values:\n",
    "    # time in database is in min\n",
    "    plt.plot([i, i], [0, 50], color=color_list[cnt])\n",
    "    #plt.plot([0, i], [400, 400], color=color_list[cnt])\n",
    "    sns.scatterplot(y=\"Memory\", x=\"Elapsed\", marker='o', s=100,\n",
    "                    data=df[(df.Timelimit == i) & (df.State == \"COMPLETED\")],\n",
    "                    color = color_list[cnt])\n",
    "    len_success = len(df[(df.Timelimit == i) & (df.State == \"COMPLETED\")])\n",
    "    len_timeout = len(df[(df.Timelimit == i) & (df.State == \"TIMEOUT\")])\n",
    "    sns.scatterplot(y=\"Memory\", x=\"Elapsed\", marker='x', s=100,\n",
    "                    data=df[(df.Timelimit == i) & (df.State == \"TIMEOUT\")],\n",
    "                    color = color_list[cnt],\n",
    "                    label=\"Failed: %d\" %(len_timeout))\n",
    "    #print(i, len_success, len_timeout)\n",
    "    cnt = (cnt + 1) % max_color\n",
    "\n",
    "plt.grid(True)\n",
    "ax.set_xlabel('Walltime (min)')\n",
    "ax.set_ylabel('Memory (GB)')\n",
    "#ax.set_xscale('log', basex=2)\n",
    "#ax.set_yscale('log', basey=2)\n",
    "\n",
    "#plt.savefig(\"figures/time_fail_%s.png\" %(dataset), bbox_inches = 'tight')\n",
    "plt.show()"
   ]
  },
  {
   "cell_type": "markdown",
   "metadata": {},
   "source": [
    "# Simulation\n",
    "### Use iSBatch to make the requests\n",
    "- Compare results to the log"
   ]
  },
  {
   "cell_type": "code",
   "execution_count": 25,
   "metadata": {},
   "outputs": [
    {
     "name": "stdout",
     "output_type": "stream",
     "text": [
      "2019-03-13T15:24:22 60.0\n",
      "2019-04-30T13:02:36 120.0\n",
      "2019-05-01T13:35:36 180.0\n",
      "2019-05-13T16:02:14 240.0\n",
      "2019-06-13T05:11:54 360.0\n"
     ]
    }
   ],
   "source": [
    "# get all request timings and the first time they were used\n",
    "requests = []\n",
    "for i in data:\n",
    "    if i[2] not in requests:\n",
    "        print(i[3], i[2])\n",
    "        requests.append(i[2])\n",
    "requests.append(480)"
   ]
  },
  {
   "cell_type": "code",
   "execution_count": 26,
   "metadata": {},
   "outputs": [],
   "source": [
    "def same_batch(d1, d2):\n",
    "    d1 = datetime.strptime(d1, \"%Y-%m-%dT%H:%M:%S\")\n",
    "    d2 = datetime.strptime(d2, \"%Y-%m-%dT%H:%M:%S\")\n",
    "    if abs((d1 - d2).seconds) > 600:\n",
    "        return False\n",
    "    return True"
   ]
  },
  {
   "cell_type": "code",
   "execution_count": 113,
   "metadata": {},
   "outputs": [],
   "source": [
    "# take all entries up to i and create an array of walltimes\n",
    "# for successful runs \n",
    "def compute_history(ts, data):\n",
    "    history = [data[i][5] for i in range(ts)\n",
    "               if data[i][1] == \"COMPLETED\"]\n",
    "    next_request = min([i for i in requests if i > data[ts][2]])\n",
    "    history += [min([j for j in requests if j > data[i][2]])\n",
    "                for i in range(ts)\n",
    "                if data[i][1] == \"TIMEOUT\"]\n",
    "    return history\n",
    "\n",
    "def compute_sequence(cnt, data, lower_limit=15, upper_limit=-1):\n",
    "    history = compute_history(cnt, data)\n",
    "    params = rqs.ResourceParameters()\n",
    "    params.CR_strategy=rqs.CRStrategy.NeverCheckpoint\n",
    "    params.request_lower_limit = lower_limit\n",
    "    if upper_limit > lower_limit:\n",
    "        params.request_upper_limit = upper_limit\n",
    "    wl = rqs.ResourceEstimator(history, params=params)\n",
    "    sequence = wl.compute_request_sequence()\n",
    "    return [int(i[0]) for i in sequence]\n",
    "\n",
    "def extract_full_sequence(sequence, last_req, walltime):\n",
    "    new_seq = [s for s in sequence if s > last_req and s < walltime]\n",
    "    temp = [s for s in sequence if s >= walltime]\n",
    "    if len(temp) > 0:\n",
    "        new_seq += [min(temp)]\n",
    "    return new_seq"
   ]
  },
  {
   "cell_type": "code",
   "execution_count": 120,
   "metadata": {},
   "outputs": [
    {
     "data": {
      "text/plain": [
       "[['2019-04-19T14:06:23', 74.2, [60.0, 120.0], [39, 120]],\n",
       " ['2019-04-19T14:06:23', 73.95, [60.0, 120.0], [39, 120]]]"
      ]
     },
     "execution_count": 120,
     "metadata": {},
     "output_type": "execute_result"
    }
   ],
   "source": [
    "# create data with merging resubmissions for the same job\n",
    "log = [] # start_time, elapsed, request\n",
    "resubmission = {i:[] for i in requests}\n",
    "isbatch_sequence = requests\n",
    "for cnt in range(len(data)):\n",
    "    i = data[cnt]\n",
    "    add_new = True\n",
    "    ps = i[2]/2 # get possible previous submission\n",
    "    if ps == 180: # submissions using 180 do not fail\n",
    "        ps = 240\n",
    "    # if there was a job timeout using the previous request\n",
    "    # and the new walltime exceeds the previous request\n",
    "    if ps in resubmission and len(resubmission[ps]) > 0 and i[5] > ps:\n",
    "        # mark this occurence as a resubmission\n",
    "        idx = resubmission[ps][0]\n",
    "        log[idx][3] += extract_full_sequence(\n",
    "            sequence, max(log[idx][3][-1], ps), i[5])\n",
    "        log[idx][2].append(i[2])\n",
    "        log[idx][1] = i[5]\n",
    "        del resubmission[ps][0]\n",
    "        add_new = False\n",
    "\n",
    "    # if the current submission is a timeout\n",
    "    if i[2] <= i[5] or i[1] == \"TIMEOUT\":\n",
    "        # add it to the log only if the current submission is not\n",
    "        # a resubmission\n",
    "        if add_new:\n",
    "            log.append([i[3], i[5], [i[2]], [sequence[0]]])\n",
    "            idx = len(log) - 1\n",
    "        resubmission[i[2]].append(idx)\n",
    "        add_new = False\n",
    "\n",
    "    if i[1] == \"COMPLETED\" and add_new:\n",
    "            log.append([i[3], i[5], [i[2]], extract_full_sequence(\n",
    "                sequence, 0, i[5])])\n",
    "\n",
    "    if cnt > 0 and same_batch(data[cnt][3], data[cnt - 1][3]):\n",
    "        continue\n",
    "\n",
    "    if cnt > 10:\n",
    "        sequence = compute_sequence(cnt, data)\n",
    "\n",
    "[i for i in log if i[0]==\"2019-04-19T14:06:23\"][:2]"
   ]
  },
  {
   "cell_type": "code",
   "execution_count": 121,
   "metadata": {},
   "outputs": [
    {
     "data": {
      "text/plain": [
       "[['2019-06-14T14:04:09', 0.3, [240.0], [34]],\n",
       " ['2019-06-14T17:17:12', 74.63333333333334, [240.0], [34, 180]]]"
      ]
     },
     "execution_count": 121,
     "metadata": {},
     "output_type": "execute_result"
    }
   ],
   "source": [
    "log[-2:]"
   ]
  },
  {
   "cell_type": "code",
   "execution_count": 111,
   "metadata": {},
   "outputs": [
    {
     "data": {
      "text/plain": [
       "[34, 180, 480]"
      ]
     },
     "execution_count": 111,
     "metadata": {},
     "output_type": "execute_result"
    }
   ],
   "source": [
    "sequence = compute_sequence(len(data)-1, data)\n",
    "sequence"
   ]
  },
  {
   "cell_type": "markdown",
   "metadata": {},
   "source": [
    "### Based on the requests \n",
    "- Compute the total failures\n",
    "- Wasted time due to overestimation"
   ]
  },
  {
   "cell_type": "code",
   "execution_count": 124,
   "metadata": {},
   "outputs": [
    {
     "name": "stdout",
     "output_type": "stream",
     "text": [
      "out of 1971 runs, 416 failed\n"
     ]
    },
    {
     "data": {
      "text/plain": [
       "95.60846203346203"
      ]
     },
     "execution_count": 124,
     "metadata": {},
     "output_type": "execute_result"
    }
   ],
   "source": [
    "# fails + wasted time for each submission\n",
    "outcome = []\n",
    "fail = 0\n",
    "for i in range(len(log)):\n",
    "    run = log[i]\n",
    "    # add all the failed reservation\n",
    "    fail += len([i for i in run[2] if i < run[1]])\n",
    "    success = [i for i in run[2] if i >= run[1]]\n",
    "    if len(success)==0:\n",
    "        continue\n",
    "    outcome.append(min(success) - run[1])\n",
    "\n",
    "print(\"out of %d runs, %d failed\" %(len(data), fail))\n",
    "np.mean(outcome)"
   ]
  },
  {
   "cell_type": "code",
   "execution_count": 125,
   "metadata": {},
   "outputs": [
    {
     "name": "stdout",
     "output_type": "stream",
     "text": [
      "out of 1971 runs, 971 failed\n"
     ]
    },
    {
     "data": {
      "text/plain": [
       "77.13899234429961"
      ]
     },
     "execution_count": 125,
     "metadata": {},
     "output_type": "execute_result"
    }
   ],
   "source": [
    "# fails + wasted time for each submission with isbatch\n",
    "outcome = []\n",
    "fail = 0\n",
    "for i in range(len(log)):\n",
    "    run = log[i]\n",
    "    # add all the failed reservation\n",
    "    fail += len([i for i in run[3] if i < run[1]])\n",
    "    success = [i for i in run[3] if i >= run[1]]\n",
    "    if len(success)==0:\n",
    "        continue\n",
    "    outcome.append(min(success) - run[1])\n",
    "\n",
    "print(\"out of %d runs, %d failed\" %(len(data), fail))\n",
    "np.mean(outcome)"
   ]
  },
  {
   "cell_type": "code",
   "execution_count": null,
   "metadata": {},
   "outputs": [],
   "source": []
  }
 ],
 "metadata": {
  "kernelspec": {
   "display_name": "Python 3",
   "language": "python",
   "name": "python3"
  },
  "language_info": {
   "codemirror_mode": {
    "name": "ipython",
    "version": 3
   },
   "file_extension": ".py",
   "mimetype": "text/x-python",
   "name": "python",
   "nbconvert_exporter": "python",
   "pygments_lexer": "ipython3",
   "version": "3.7.6"
  }
 },
 "nbformat": 4,
 "nbformat_minor": 4
}
