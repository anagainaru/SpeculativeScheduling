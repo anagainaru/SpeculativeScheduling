{
 "cells": [
  {
   "cell_type": "code",
   "execution_count": 1,
   "metadata": {},
   "outputs": [],
   "source": [
    "import numpy as np\n",
    "import pandas as pd\n",
    "import seaborn as sns; sns.set()\n",
    "import matplotlib.pyplot as plt"
   ]
  },
  {
   "cell_type": "code",
   "execution_count": 2,
   "metadata": {},
   "outputs": [],
   "source": [
    "def time_converter(data, minute=False):\n",
    "    x = data.split('-')\n",
    "    if len(x)==1:\n",
    "        d = 0\n",
    "        x = x[0]\n",
    "    else:\n",
    "        d = int(x[0])\n",
    "        x = x[1]\n",
    "    h,m,s = map(int,x.split(':'))\n",
    "    if minute == True:\n",
    "        return (d*24 + h)*60 + m + s/60\n",
    "    return ((d*24 + h)*60+m)*60+s"
   ]
  },
  {
   "cell_type": "code",
   "execution_count": 3,
   "metadata": {},
   "outputs": [],
   "source": [
    "df = pd.read_excel('xnat_accre_full_stats.xlsx')"
   ]
  },
  {
   "cell_type": "code",
   "execution_count": 4,
   "metadata": {},
   "outputs": [
    {
     "data": {
      "text/html": [
       "<div>\n",
       "<style scoped>\n",
       "    .dataframe tbody tr th:only-of-type {\n",
       "        vertical-align: middle;\n",
       "    }\n",
       "\n",
       "    .dataframe tbody tr th {\n",
       "        vertical-align: top;\n",
       "    }\n",
       "\n",
       "    .dataframe thead th {\n",
       "        text-align: right;\n",
       "    }\n",
       "</style>\n",
       "<table border=\"1\" class=\"dataframe\">\n",
       "  <thead>\n",
       "    <tr style=\"text-align: right;\">\n",
       "      <th></th>\n",
       "      <th>jobstartdate</th>\n",
       "      <th>jobSubmitDate</th>\n",
       "      <th>id</th>\n",
       "      <th>proctype</th>\n",
       "      <th>memused</th>\n",
       "      <th>input(MB)</th>\n",
       "      <th>output(MB)</th>\n",
       "      <th>walltime(min)</th>\n",
       "      <th>JobID</th>\n",
       "      <th>Submit</th>\n",
       "      <th>...</th>\n",
       "      <th>ExitCode</th>\n",
       "      <th>State</th>\n",
       "      <th>NNodes</th>\n",
       "      <th>NCPUS</th>\n",
       "      <th>ReqCPUS</th>\n",
       "      <th>ReqMem</th>\n",
       "      <th>ReqGRES</th>\n",
       "      <th>ReqTRES</th>\n",
       "      <th>Timelimit</th>\n",
       "      <th>NodeList</th>\n",
       "    </tr>\n",
       "  </thead>\n",
       "  <tbody>\n",
       "    <tr>\n",
       "      <th>0</th>\n",
       "      <td>2018-01-01</td>\n",
       "      <td>2017-12-22</td>\n",
       "      <td>VUIISXNAT02_E226662</td>\n",
       "      <td>MaCRUISE_Parcel_v2</td>\n",
       "      <td>4631908</td>\n",
       "      <td>7.0</td>\n",
       "      <td>253.0</td>\n",
       "      <td>408.316667</td>\n",
       "      <td>23101185</td>\n",
       "      <td>2018-01-01T15:01:37</td>\n",
       "      <td>...</td>\n",
       "      <td>00:00:00</td>\n",
       "      <td>COMPLETED</td>\n",
       "      <td>1</td>\n",
       "      <td>1</td>\n",
       "      <td>1</td>\n",
       "      <td>16000Mn</td>\n",
       "      <td>NaN</td>\n",
       "      <td>cpu=1,mem=16000M,node=1</td>\n",
       "      <td>12:00:00</td>\n",
       "      <td>vmp1044</td>\n",
       "    </tr>\n",
       "    <tr>\n",
       "      <th>1</th>\n",
       "      <td>2018-01-01</td>\n",
       "      <td>2017-12-22</td>\n",
       "      <td>VUIISXNAT02_E226752</td>\n",
       "      <td>MaCRUISE_Parcel_v2</td>\n",
       "      <td>4212364</td>\n",
       "      <td>5.9</td>\n",
       "      <td>198.0</td>\n",
       "      <td>238.000000</td>\n",
       "      <td>23101253</td>\n",
       "      <td>2018-01-01T16:01:34</td>\n",
       "      <td>...</td>\n",
       "      <td>00:00:00</td>\n",
       "      <td>COMPLETED</td>\n",
       "      <td>1</td>\n",
       "      <td>1</td>\n",
       "      <td>1</td>\n",
       "      <td>16000Mn</td>\n",
       "      <td>NaN</td>\n",
       "      <td>cpu=1,mem=16000M,node=1</td>\n",
       "      <td>12:00:00</td>\n",
       "      <td>vmp201</td>\n",
       "    </tr>\n",
       "    <tr>\n",
       "      <th>2</th>\n",
       "      <td>2018-01-01</td>\n",
       "      <td>2017-12-22</td>\n",
       "      <td>VUIISXNAT02_E226788</td>\n",
       "      <td>MaCRUISE_Parcel_v2</td>\n",
       "      <td>4146228</td>\n",
       "      <td>5.4</td>\n",
       "      <td>198.0</td>\n",
       "      <td>236.700000</td>\n",
       "      <td>23101254</td>\n",
       "      <td>2018-01-01T16:01:34</td>\n",
       "      <td>...</td>\n",
       "      <td>00:00:00</td>\n",
       "      <td>COMPLETED</td>\n",
       "      <td>1</td>\n",
       "      <td>1</td>\n",
       "      <td>1</td>\n",
       "      <td>16000Mn</td>\n",
       "      <td>NaN</td>\n",
       "      <td>cpu=1,mem=16000M,node=1</td>\n",
       "      <td>12:00:00</td>\n",
       "      <td>vmp202</td>\n",
       "    </tr>\n",
       "    <tr>\n",
       "      <th>3</th>\n",
       "      <td>2018-01-01</td>\n",
       "      <td>2017-12-22</td>\n",
       "      <td>VUIISXNAT02_E226806</td>\n",
       "      <td>MaCRUISE_Parcel_v2</td>\n",
       "      <td>4432564</td>\n",
       "      <td>7.6</td>\n",
       "      <td>220.0</td>\n",
       "      <td>287.683333</td>\n",
       "      <td>23101255</td>\n",
       "      <td>2018-01-01T16:01:34</td>\n",
       "      <td>...</td>\n",
       "      <td>00:00:00</td>\n",
       "      <td>COMPLETED</td>\n",
       "      <td>1</td>\n",
       "      <td>1</td>\n",
       "      <td>1</td>\n",
       "      <td>16000Mn</td>\n",
       "      <td>NaN</td>\n",
       "      <td>cpu=1,mem=16000M,node=1</td>\n",
       "      <td>12:00:00</td>\n",
       "      <td>vmp205</td>\n",
       "    </tr>\n",
       "    <tr>\n",
       "      <th>4</th>\n",
       "      <td>2018-01-01</td>\n",
       "      <td>2017-12-22</td>\n",
       "      <td>VUIISXNAT02_E226824</td>\n",
       "      <td>MaCRUISE_Parcel_v2</td>\n",
       "      <td>3963128</td>\n",
       "      <td>6.6</td>\n",
       "      <td>158.0</td>\n",
       "      <td>154.983333</td>\n",
       "      <td>23101252</td>\n",
       "      <td>2018-01-01T16:01:34</td>\n",
       "      <td>...</td>\n",
       "      <td>00:00:00</td>\n",
       "      <td>COMPLETED</td>\n",
       "      <td>1</td>\n",
       "      <td>1</td>\n",
       "      <td>1</td>\n",
       "      <td>16000Mn</td>\n",
       "      <td>NaN</td>\n",
       "      <td>cpu=1,mem=16000M,node=1</td>\n",
       "      <td>12:00:00</td>\n",
       "      <td>vmp211</td>\n",
       "    </tr>\n",
       "  </tbody>\n",
       "</table>\n",
       "<p>5 rows × 24 columns</p>\n",
       "</div>"
      ],
      "text/plain": [
       "  jobstartdate jobSubmitDate                   id            proctype  \\\n",
       "0   2018-01-01    2017-12-22  VUIISXNAT02_E226662  MaCRUISE_Parcel_v2   \n",
       "1   2018-01-01    2017-12-22  VUIISXNAT02_E226752  MaCRUISE_Parcel_v2   \n",
       "2   2018-01-01    2017-12-22  VUIISXNAT02_E226788  MaCRUISE_Parcel_v2   \n",
       "3   2018-01-01    2017-12-22  VUIISXNAT02_E226806  MaCRUISE_Parcel_v2   \n",
       "4   2018-01-01    2017-12-22  VUIISXNAT02_E226824  MaCRUISE_Parcel_v2   \n",
       "\n",
       "   memused  input(MB)  output(MB)  walltime(min)     JobID  \\\n",
       "0  4631908        7.0       253.0     408.316667  23101185   \n",
       "1  4212364        5.9       198.0     238.000000  23101253   \n",
       "2  4146228        5.4       198.0     236.700000  23101254   \n",
       "3  4432564        7.6       220.0     287.683333  23101255   \n",
       "4  3963128        6.6       158.0     154.983333  23101252   \n",
       "\n",
       "                Submit  ...  ExitCode      State NNodes NCPUS ReqCPUS  \\\n",
       "0  2018-01-01T15:01:37  ...  00:00:00  COMPLETED      1     1       1   \n",
       "1  2018-01-01T16:01:34  ...  00:00:00  COMPLETED      1     1       1   \n",
       "2  2018-01-01T16:01:34  ...  00:00:00  COMPLETED      1     1       1   \n",
       "3  2018-01-01T16:01:34  ...  00:00:00  COMPLETED      1     1       1   \n",
       "4  2018-01-01T16:01:34  ...  00:00:00  COMPLETED      1     1       1   \n",
       "\n",
       "    ReqMem  ReqGRES                  ReqTRES  Timelimit NodeList  \n",
       "0  16000Mn      NaN  cpu=1,mem=16000M,node=1   12:00:00  vmp1044  \n",
       "1  16000Mn      NaN  cpu=1,mem=16000M,node=1   12:00:00   vmp201  \n",
       "2  16000Mn      NaN  cpu=1,mem=16000M,node=1   12:00:00   vmp202  \n",
       "3  16000Mn      NaN  cpu=1,mem=16000M,node=1   12:00:00   vmp205  \n",
       "4  16000Mn      NaN  cpu=1,mem=16000M,node=1   12:00:00   vmp211  \n",
       "\n",
       "[5 rows x 24 columns]"
      ]
     },
     "execution_count": 4,
     "metadata": {},
     "output_type": "execute_result"
    }
   ],
   "source": [
    "df.head()"
   ]
  },
  {
   "cell_type": "code",
   "execution_count": 5,
   "metadata": {},
   "outputs": [],
   "source": [
    "df['ReqMem_num'] = pd.to_numeric(df['ReqMem'].map(lambda x: x.rstrip('MnG')))"
   ]
  },
  {
   "cell_type": "code",
   "execution_count": 6,
   "metadata": {},
   "outputs": [],
   "source": [
    "df['Timelimit_num'] = df['Timelimit'].astype(str)\n",
    "df['Timelimit_num'] = df.Timelimit_num.apply(time_converter)"
   ]
  },
  {
   "cell_type": "code",
   "execution_count": 24,
   "metadata": {},
   "outputs": [
    {
     "data": {
      "text/html": [
       "<div>\n",
       "<style scoped>\n",
       "    .dataframe tbody tr th:only-of-type {\n",
       "        vertical-align: middle;\n",
       "    }\n",
       "\n",
       "    .dataframe tbody tr th {\n",
       "        vertical-align: top;\n",
       "    }\n",
       "\n",
       "    .dataframe thead th {\n",
       "        text-align: right;\n",
       "    }\n",
       "</style>\n",
       "<table border=\"1\" class=\"dataframe\">\n",
       "  <thead>\n",
       "    <tr style=\"text-align: right;\">\n",
       "      <th></th>\n",
       "      <th>ReqMem_num</th>\n",
       "      <th>Timelimit_num</th>\n",
       "    </tr>\n",
       "  </thead>\n",
       "  <tbody>\n",
       "    <tr>\n",
       "      <th>104</th>\n",
       "      <td>10000</td>\n",
       "      <td>36000</td>\n",
       "    </tr>\n",
       "    <tr>\n",
       "      <th>3671</th>\n",
       "      <td>20000</td>\n",
       "      <td>345600</td>\n",
       "    </tr>\n",
       "    <tr>\n",
       "      <th>5144</th>\n",
       "      <td>40000</td>\n",
       "      <td>345600</td>\n",
       "    </tr>\n",
       "  </tbody>\n",
       "</table>\n",
       "</div>"
      ],
      "text/plain": [
       "      ReqMem_num  Timelimit_num\n",
       "104        10000          36000\n",
       "3671       20000         345600\n",
       "5144       40000         345600"
      ]
     },
     "execution_count": 24,
     "metadata": {},
     "output_type": "execute_result"
    }
   ],
   "source": [
    "df[df.proctype == \"dtiQA_v6\"][[\"ReqMem_num\", \"Timelimit_num\"]].drop_duplicates()"
   ]
  },
  {
   "cell_type": "code",
   "execution_count": 15,
   "metadata": {},
   "outputs": [],
   "source": [
    "mem_prop = {}\n",
    "mem_prop[\"dtiQA_v6\"] = False\n",
    "mem_prop[\"fMRI_Connectivity_PreProcess_Scan_v2\"] = False # in MB not GB"
   ]
  },
  {
   "cell_type": "markdown",
   "metadata": {},
   "source": [
    "### Read the timeout log and plot timeout runs compared to application behavior"
   ]
  },
  {
   "cell_type": "code",
   "execution_count": 16,
   "metadata": {},
   "outputs": [],
   "source": [
    "dataset = \"dtiQA_v6\""
   ]
  },
  {
   "cell_type": "code",
   "execution_count": 25,
   "metadata": {},
   "outputs": [
    {
     "data": {
      "text/html": [
       "<div>\n",
       "<style scoped>\n",
       "    .dataframe tbody tr th:only-of-type {\n",
       "        vertical-align: middle;\n",
       "    }\n",
       "\n",
       "    .dataframe tbody tr th {\n",
       "        vertical-align: top;\n",
       "    }\n",
       "\n",
       "    .dataframe thead th {\n",
       "        text-align: right;\n",
       "    }\n",
       "</style>\n",
       "<table border=\"1\" class=\"dataframe\">\n",
       "  <thead>\n",
       "    <tr style=\"text-align: right;\">\n",
       "      <th></th>\n",
       "      <th>ReqMem_num</th>\n",
       "      <th>Timelimit_num</th>\n",
       "    </tr>\n",
       "  </thead>\n",
       "  <tbody>\n",
       "    <tr>\n",
       "      <th>104</th>\n",
       "      <td>10000</td>\n",
       "      <td>36000</td>\n",
       "    </tr>\n",
       "    <tr>\n",
       "      <th>3671</th>\n",
       "      <td>20000</td>\n",
       "      <td>345600</td>\n",
       "    </tr>\n",
       "    <tr>\n",
       "      <th>5144</th>\n",
       "      <td>40000</td>\n",
       "      <td>345600</td>\n",
       "    </tr>\n",
       "  </tbody>\n",
       "</table>\n",
       "</div>"
      ],
      "text/plain": [
       "      ReqMem_num  Timelimit_num\n",
       "104        10000          36000\n",
       "3671       20000         345600\n",
       "5144       40000         345600"
      ]
     },
     "execution_count": 25,
     "metadata": {},
     "output_type": "execute_result"
    }
   ],
   "source": [
    "request = df[df.proctype == \"dtiQA_v6\"][[\"ReqMem_num\", \"Timelimit_num\"]].drop_duplicates()\n",
    "df[df.proctype == dataset].head()"
   ]
  },
  {
   "cell_type": "code",
   "execution_count": 36,
   "metadata": {},
   "outputs": [
    {
     "data": {
      "text/html": [
       "<div>\n",
       "<style scoped>\n",
       "    .dataframe tbody tr th:only-of-type {\n",
       "        vertical-align: middle;\n",
       "    }\n",
       "\n",
       "    .dataframe tbody tr th {\n",
       "        vertical-align: top;\n",
       "    }\n",
       "\n",
       "    .dataframe thead th {\n",
       "        text-align: right;\n",
       "    }\n",
       "</style>\n",
       "<table border=\"1\" class=\"dataframe\">\n",
       "  <thead>\n",
       "    <tr style=\"text-align: right;\">\n",
       "      <th></th>\n",
       "      <th>ReqMem_num</th>\n",
       "      <th>Timelimit_num</th>\n",
       "    </tr>\n",
       "  </thead>\n",
       "  <tbody>\n",
       "    <tr>\n",
       "      <th>104</th>\n",
       "      <td>10000</td>\n",
       "      <td>600.0</td>\n",
       "    </tr>\n",
       "    <tr>\n",
       "      <th>3671</th>\n",
       "      <td>20000</td>\n",
       "      <td>5760.0</td>\n",
       "    </tr>\n",
       "    <tr>\n",
       "      <th>5144</th>\n",
       "      <td>40000</td>\n",
       "      <td>5760.0</td>\n",
       "    </tr>\n",
       "  </tbody>\n",
       "</table>\n",
       "</div>"
      ],
      "text/plain": [
       "      ReqMem_num  Timelimit_num\n",
       "104        10000          600.0\n",
       "3671       20000         5760.0\n",
       "5144       40000         5760.0"
      ]
     },
     "execution_count": 36,
     "metadata": {},
     "output_type": "execute_result"
    }
   ],
   "source": [
    "dfset = df[df.proctype == dataset]\n",
    "dfset = dfset[dfset['memused'].notnull()].copy()\n",
    "dfset['memused'] = dfset['memused'].astype(str)\n",
    "dfset = dfset[dfset.memused.apply(lambda x: x.isnumeric())]\n",
    "\n",
    "dfset['memused'] =  pd.to_numeric(dfset['memused']) / 1024\n",
    "\n",
    "request[\"Timelimit_num\"] = request[\"Timelimit_num\"] / 60\n",
    "if dataset not in mem_prop:\n",
    "    request[\"ReqMem_num\"] = request[\"ReqMem_num\"] * 1024\n",
    "request"
   ]
  },
  {
   "cell_type": "code",
   "execution_count": 37,
   "metadata": {},
   "outputs": [
    {
     "data": {
      "image/png": "[encoded data removed]",
      "text/plain": [
       "<Figure size 864x576 with 1 Axes>"
      ]
     },
     "metadata": {},
     "output_type": "display_data"
    }
   ],
   "source": [
    "fig, ax = plt.subplots(figsize=(12,8))\n",
    "sns.set(font_scale=2)\n",
    "sns.set_style(\"white\")\n",
    "ax = sns.scatterplot(y=\"memused\", x=\"walltime(min)\",\n",
    "                     data=dfset)\n",
    "\n",
    "# set the request times\n",
    "for i in request.values:\n",
    "    # time in database is in min\n",
    "    plt.plot([i[1], i[1]], [0, i[0]], color='orange')\n",
    "    plt.plot([0, i[1]], [i[0], i[0]], color='orange')\n",
    "\n",
    "plt.grid(True)\n",
    "ax.set_xlabel('Walltime (min)')\n",
    "ax.set_ylabel('Memory (MB)')\n",
    "ax.set_title(dataset)\n",
    "\n",
    "plt.savefig(\"figures/%s.png\" %(dataset))\n",
    "plt.show()"
   ]
  },
  {
   "cell_type": "code",
   "execution_count": null,
   "metadata": {},
   "outputs": [],
   "source": [
    "\n"
   ]
  }
 ],
 "metadata": {
  "kernelspec": {
   "display_name": "Python 3",
   "language": "python",
   "name": "python3"
  },
  "language_info": {
   "codemirror_mode": {
    "name": "ipython",
    "version": 3
   },
   "file_extension": ".py",
   "mimetype": "text/x-python",
   "name": "python",
   "nbconvert_exporter": "python",
   "pygments_lexer": "ipython3",
   "version": "3.7.6"
  }
 },
 "nbformat": 4,
 "nbformat_minor": 4
}
