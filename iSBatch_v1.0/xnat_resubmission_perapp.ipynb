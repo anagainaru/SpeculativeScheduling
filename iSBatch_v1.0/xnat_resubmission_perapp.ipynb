{
 "cells": [
  {
   "cell_type": "code",
   "execution_count": 1,
   "metadata": {},
   "outputs": [],
   "source": [
    "import numpy as np\n",
    "import pandas as pd\n",
    "import seaborn as sns; sns.set()\n",
    "import matplotlib.pyplot as plt\n",
    "import matplotlib.colors as mcolors\n",
    "\n",
    "import dateutil.parser"
   ]
  },
  {
   "cell_type": "code",
   "execution_count": 2,
   "metadata": {},
   "outputs": [],
   "source": [
    "color_list = [i for i in mcolors.TABLEAU_COLORS]\n",
    "marker_list = [\"o\", \"x\"]\n",
    "dataset = \"fMRIQA_v2\""
   ]
  },
  {
   "cell_type": "code",
   "execution_count": 3,
   "metadata": {},
   "outputs": [],
   "source": [
    "def time_converter(data, minute=False):\n",
    "    x = data.split('-')\n",
    "    if len(x)==1:\n",
    "        d = 0\n",
    "        x = x[0]\n",
    "    else:\n",
    "        d = int(x[0])\n",
    "        x = x[1]\n",
    "    h,m,s = map(int,x.split(':'))\n",
    "    if minute == True:\n",
    "        return (d*24 + h)*60 + m + s/60\n",
    "    return (((d*24 + h)*60+m)*60+s)/60"
   ]
  },
  {
   "cell_type": "code",
   "execution_count": 4,
   "metadata": {},
   "outputs": [],
   "source": [
    "def memory_size_converter(size):\n",
    "    giga = True\n",
    "    if 'M' in size:\n",
    "        giga = False\n",
    "    num = float(size.rstrip('MnG'))\n",
    "    if giga:\n",
    "        return num*1024\n",
    "    return num"
   ]
  },
  {
   "cell_type": "code",
   "execution_count": 5,
   "metadata": {},
   "outputs": [],
   "source": [
    "def datetime_to_minutes(d):\n",
    "    return d.seconds/60"
   ]
  },
  {
   "cell_type": "markdown",
   "metadata": {},
   "source": [
    "# Correlate XNAT and ACCRE logs"
   ]
  },
  {
   "cell_type": "code",
   "execution_count": 26,
   "metadata": {},
   "outputs": [],
   "source": [
    "# read XNAT logs\n",
    "df = pd.read_excel('xnat_accre_full_stats.xlsx')"
   ]
  },
  {
   "cell_type": "markdown",
   "metadata": {},
   "source": [
    "## 1. Identify the corresponding entries in the slurm logs\n",
    "\n",
    "- Find the requirements of the given dataset\n",
    "- Identify other applications that have the same resource requirements"
   ]
  },
  {
   "cell_type": "code",
   "execution_count": 7,
   "metadata": {},
   "outputs": [
    {
     "data": {
      "text/html": [
       "<div>\n",
       "<style scoped>\n",
       "    .dataframe tbody tr th:only-of-type {\n",
       "        vertical-align: middle;\n",
       "    }\n",
       "\n",
       "    .dataframe tbody tr th {\n",
       "        vertical-align: top;\n",
       "    }\n",
       "\n",
       "    .dataframe thead th {\n",
       "        text-align: right;\n",
       "    }\n",
       "</style>\n",
       "<table border=\"1\" class=\"dataframe\">\n",
       "  <thead>\n",
       "    <tr style=\"text-align: right;\">\n",
       "      <th></th>\n",
       "      <th>ReqTRES</th>\n",
       "      <th>Timelimit</th>\n",
       "      <th>Freq</th>\n",
       "    </tr>\n",
       "  </thead>\n",
       "  <tbody>\n",
       "    <tr>\n",
       "      <th>0</th>\n",
       "      <td>cpu=1,mem=4G,node=1</td>\n",
       "      <td>00:30:00</td>\n",
       "      <td>271</td>\n",
       "    </tr>\n",
       "    <tr>\n",
       "      <th>1</th>\n",
       "      <td>cpu=1,mem=8G,node=1</td>\n",
       "      <td>01:00:00</td>\n",
       "      <td>653</td>\n",
       "    </tr>\n",
       "  </tbody>\n",
       "</table>\n",
       "</div>"
      ],
      "text/plain": [
       "               ReqTRES Timelimit  Freq\n",
       "0  cpu=1,mem=4G,node=1  00:30:00   271\n",
       "1  cpu=1,mem=8G,node=1  01:00:00   653"
      ]
     },
     "execution_count": 7,
     "metadata": {},
     "output_type": "execute_result"
    }
   ],
   "source": [
    "# print requirements\n",
    "df_requirements = df[df.proctype==dataset].groupby(\n",
    "    ['ReqTRES', 'Timelimit']).size().reset_index(name='Freq')\n",
    "df_requirements"
   ]
  },
  {
   "cell_type": "code",
   "execution_count": 8,
   "metadata": {},
   "outputs": [
    {
     "data": {
      "text/plain": [
       "array(['fMRIQA_v2', 'fMRIQA_v3', 'NDW_VBM_v1',\n",
       "       'fMRI_Connectivity_Process_Scan_v3'], dtype=object)"
      ]
     },
     "execution_count": 8,
     "metadata": {},
     "output_type": "execute_result"
    }
   ],
   "source": [
    "df[(df.ReqTRES.isin(df_requirements.ReqTRES)) & (df.Timelimit.isin(df_requirements.Timelimit))][\"proctype\"].unique()"
   ]
  },
  {
   "cell_type": "code",
   "execution_count": 27,
   "metadata": {},
   "outputs": [
    {
     "data": {
      "text/plain": [
       "array(['fMRIQA_v2', 'fMRIQA_v3', 'fMRI_Connectivity_Process_Scan_v3'],\n",
       "      dtype=object)"
      ]
     },
     "execution_count": 27,
     "metadata": {},
     "output_type": "execute_result"
    }
   ],
   "source": [
    "df['Timelimit'] = df['Timelimit'].astype(str)\n",
    "df_apps = df[(df.ReqTRES == \"cpu=1,mem=4G,node=1\") & (df.Timelimit == \"00:30:00\")]\n",
    "df_apps[\"proctype\"].unique()"
   ]
  },
  {
   "cell_type": "markdown",
   "metadata": {},
   "source": [
    "## 2. Create all the additional fields\n",
    "- Walltime in min\n",
    "- Used memory in MB\n",
    "- Requested memory in MB\n",
    "- Requested walltime in min\n",
    "\n",
    "In addition add:\n",
    "- Elapsed minutes since the first submission in the log"
   ]
  },
  {
   "cell_type": "code",
   "execution_count": 28,
   "metadata": {},
   "outputs": [],
   "source": [
    "df['Timelimit_num'] = df['Timelimit'].astype(str)\n",
    "df['Timelimit_num'] = df.Timelimit_num.apply(time_converter)\n",
    "df['Walltime_num'] = df['Elapsed'].astype(str)\n",
    "df['Walltime_num'] = df.Walltime_num.apply(time_converter)\n",
    "df['ReqMem_num'] = df.ReqMem.apply(memory_size_converter)\n",
    "df = df[df['memused'].notnull()].copy()\n",
    "df['memused'] = df['memused'].astype(str)\n",
    "df = df[df.memused.apply(lambda x: x.isnumeric())]\n",
    "df['memused'] =  pd.to_numeric(df['memused']) / 1024"
   ]
  },
  {
   "cell_type": "code",
   "execution_count": 29,
   "metadata": {},
   "outputs": [
    {
     "data": {
      "text/html": [
       "<div>\n",
       "<style scoped>\n",
       "    .dataframe tbody tr th:only-of-type {\n",
       "        vertical-align: middle;\n",
       "    }\n",
       "\n",
       "    .dataframe tbody tr th {\n",
       "        vertical-align: top;\n",
       "    }\n",
       "\n",
       "    .dataframe thead th {\n",
       "        text-align: right;\n",
       "    }\n",
       "</style>\n",
       "<table border=\"1\" class=\"dataframe\">\n",
       "  <thead>\n",
       "    <tr style=\"text-align: right;\">\n",
       "      <th></th>\n",
       "      <th>TimeFromOrigin</th>\n",
       "      <th>Submit</th>\n",
       "    </tr>\n",
       "  </thead>\n",
       "  <tbody>\n",
       "    <tr>\n",
       "      <th>0</th>\n",
       "      <td>0</td>\n",
       "      <td>2018-01-01T15:01:37</td>\n",
       "    </tr>\n",
       "    <tr>\n",
       "      <th>1</th>\n",
       "      <td>59</td>\n",
       "      <td>2018-01-01T16:01:34</td>\n",
       "    </tr>\n",
       "    <tr>\n",
       "      <th>2</th>\n",
       "      <td>59</td>\n",
       "      <td>2018-01-01T16:01:34</td>\n",
       "    </tr>\n",
       "    <tr>\n",
       "      <th>3</th>\n",
       "      <td>59</td>\n",
       "      <td>2018-01-01T16:01:34</td>\n",
       "    </tr>\n",
       "    <tr>\n",
       "      <th>4</th>\n",
       "      <td>59</td>\n",
       "      <td>2018-01-01T16:01:34</td>\n",
       "    </tr>\n",
       "  </tbody>\n",
       "</table>\n",
       "</div>"
      ],
      "text/plain": [
       "   TimeFromOrigin               Submit\n",
       "0               0  2018-01-01T15:01:37\n",
       "1              59  2018-01-01T16:01:34\n",
       "2              59  2018-01-01T16:01:34\n",
       "3              59  2018-01-01T16:01:34\n",
       "4              59  2018-01-01T16:01:34"
      ]
     },
     "execution_count": 29,
     "metadata": {},
     "output_type": "execute_result"
    }
   ],
   "source": [
    "df['Submit_dt'] = df.Submit.apply(dateutil.parser.parse)\n",
    "first_submission = df[\"Submit_dt\"].values[0]\n",
    "\n",
    "df[\"TimeFromOrigin\"] = ((df['Submit_dt'] - first_submission) / np.timedelta64(1, 'm')).astype(int)\n",
    "df[[\"TimeFromOrigin\", \"Submit\"]].head()"
   ]
  },
  {
   "cell_type": "markdown",
   "metadata": {},
   "source": [
    "# 3. Extract submissions from SLURM\n",
    "- Following the same resource requirements as specified above"
   ]
  },
  {
   "cell_type": "code",
   "execution_count": 12,
   "metadata": {},
   "outputs": [],
   "source": [
    "df_accre = pd.read_csv('MEM_COMPL_%s.csv' %(dataset), delimiter=\"|\")"
   ]
  },
  {
   "cell_type": "code",
   "execution_count": 13,
   "metadata": {},
   "outputs": [],
   "source": [
    "#df_accre = pd.read_csv('MEM_FAIL_%s.csv' %(dataset), delimiter=\"|\")\n",
    "df_accre['Timelimit_num'] = df_accre['Timelimit'].astype(str)\n",
    "df_accre['Timelimit_num'] = df_accre.Timelimit_num.apply(time_converter)\n",
    "df_accre['Walltime_num'] = df_accre['Elapsed'].astype(str)\n",
    "df_accre['Walltime_num'] = df_accre.Walltime_num.apply(time_converter)\n",
    "df_accre['ReqMem_num'] = df_accre.ReqMem.apply(memory_size_converter)\n",
    "# df_accre contains only the failed runs due to memory exceed\n",
    "df_accre['memused'] = df_accre['ReqMem_num']"
   ]
  },
  {
   "cell_type": "code",
   "execution_count": 14,
   "metadata": {},
   "outputs": [
    {
     "data": {
      "text/plain": [
       "array(['COMPLETED', 'TIMEOUT', 'FAILED'], dtype=object)"
      ]
     },
     "execution_count": 14,
     "metadata": {},
     "output_type": "execute_result"
    }
   ],
   "source": [
    "df_accre['Submit_dt'] = df_accre.Submit.apply(dateutil.parser.parse)\n",
    "\n",
    "df_accre[\"TimeFromOrigin\"] = ((df_accre['Submit_dt'] - first_submission) / np.timedelta64(1, 'm')).astype(int)\n",
    "df_accre.State.unique()"
   ]
  },
  {
   "cell_type": "code",
   "execution_count": 15,
   "metadata": {},
   "outputs": [
    {
     "name": "stdout",
     "output_type": "stream",
     "text": [
      "Entries in XNAT: 472\n",
      "Entries in ACCRE: 618\n",
      "XNAT ids that are not in ACCRE: 0\n",
      "ACCRE entries that are not in XNAT: 146\n"
     ]
    }
   ],
   "source": [
    "print(\"Entries in XNAT:\", len(df_apps))\n",
    "print(\"Entries in ACCRE:\", len(df_accre))\n",
    "print(\"XNAT ids that are not in ACCRE:\",\n",
    "      len(df_apps[~df_apps.JobID.isin(df_accre.JobID)]))\n",
    "print(\"ACCRE entries that are not in XNAT:\",\n",
    "      len(df_accre[~df_accre.JobID.isin(df_apps.JobID)]))"
   ]
  },
  {
   "cell_type": "markdown",
   "metadata": {},
   "source": [
    "- Plot timestamp entries for all entries in XNAT (color coded by application)\n",
    "- Plot an additional color for all the entries that are only in ACCRE"
   ]
  },
  {
   "cell_type": "code",
   "execution_count": 59,
   "metadata": {},
   "outputs": [
    {
     "name": "stdout",
     "output_type": "stream",
     "text": [
      "fMRIQA_v2\n",
      "fMRIQA_v3\n"
     ]
    },
    {
     "data": {
      "image/png": "[encoded data removed]",
      "text/plain": [
       "<Figure size 864x576 with 1 Axes>"
      ]
     },
     "metadata": {},
     "output_type": "display_data"
    }
   ],
   "source": [
    "df_apps = df[(df.ReqTRES == \"cpu=1,mem=4G,node=1\") & (df.Timelimit == \"00:30:00\")]\n",
    "\n",
    "sns.set(font_scale=2)\n",
    "sns.set_style(\"white\")\n",
    "fig, ax = plt.subplots(figsize=(12,8))\n",
    "\n",
    "cnt = 0\n",
    "dfgroup = df_accre[df_accre.State==\"COMPLETED\"].groupby(\"TimeFromOrigin\").count()[\"Submit\"].reset_index()\n",
    "ax.scatter(dfgroup[\"TimeFromOrigin\"], dfgroup.Submit,\n",
    "           color=color_list[cnt], label=\"ACCRE\")\n",
    "dfgroup = df_accre[df_accre.State==\"TIMEOUT\"].groupby(\"TimeFromOrigin\").count()[\"Submit\"].reset_index()\n",
    "ax.scatter(dfgroup[\"TimeFromOrigin\"], dfgroup.Submit,\n",
    "           color=color_list[cnt], marker=\"x\", s=100)\n",
    "\n",
    "for app in df_apps[\"proctype\"].unique():\n",
    "    print(app)\n",
    "    cnt += 1\n",
    "    dfgroup = df_apps[df_apps.proctype==app].groupby(\"TimeFromOrigin\").count()[\"id\"].reset_index()\n",
    "    \n",
    "    ax.scatter(dfgroup[\"TimeFromOrigin\"], dfgroup.id,\n",
    "               color=color_list[cnt], label=app)\n",
    "\n",
    "ax.legend()\n",
    "plt.grid(True)\n",
    "plt.show()"
   ]
  },
  {
   "cell_type": "markdown",
   "metadata": {},
   "source": [
    "## 4. Analyze TIMEOUTS\n",
    "- Find the submissions closest to each TIMEOUT batch"
   ]
  },
  {
   "cell_type": "code",
   "execution_count": 44,
   "metadata": {},
   "outputs": [
    {
     "name": "stdout",
     "output_type": "stream",
     "text": [
      "76\n"
     ]
    }
   ],
   "source": [
    "df_timeout = df_accre[df_accre.State==\"TIMEOUT\"][[\"JobID\", \"Submit\", \"TimeFromOrigin\"]]\n",
    "print(len(df_timeout))\n",
    "#df_accre[df_accre.State==\"TIMEOUT\"].head()"
   ]
  },
  {
   "cell_type": "code",
   "execution_count": 19,
   "metadata": {},
   "outputs": [
    {
     "data": {
      "text/html": [
       "<div>\n",
       "<style scoped>\n",
       "    .dataframe tbody tr th:only-of-type {\n",
       "        vertical-align: middle;\n",
       "    }\n",
       "\n",
       "    .dataframe tbody tr th {\n",
       "        vertical-align: top;\n",
       "    }\n",
       "\n",
       "    .dataframe thead th {\n",
       "        text-align: right;\n",
       "    }\n",
       "</style>\n",
       "<table border=\"1\" class=\"dataframe\">\n",
       "  <thead>\n",
       "    <tr style=\"text-align: right;\">\n",
       "      <th></th>\n",
       "      <th>TimeFromOrigin</th>\n",
       "      <th>Submit</th>\n",
       "      <th>Freq</th>\n",
       "    </tr>\n",
       "  </thead>\n",
       "  <tbody>\n",
       "    <tr>\n",
       "      <th>0</th>\n",
       "      <td>10625</td>\n",
       "      <td>2018-01-09T00:06:37</td>\n",
       "      <td>2</td>\n",
       "    </tr>\n",
       "    <tr>\n",
       "      <th>1</th>\n",
       "      <td>10625</td>\n",
       "      <td>2018-01-09T00:07:16</td>\n",
       "      <td>1</td>\n",
       "    </tr>\n",
       "    <tr>\n",
       "      <th>2</th>\n",
       "      <td>10626</td>\n",
       "      <td>2018-01-09T00:08:01</td>\n",
       "      <td>1</td>\n",
       "    </tr>\n",
       "    <tr>\n",
       "      <th>3</th>\n",
       "      <td>11764</td>\n",
       "      <td>2018-01-09T19:06:21</td>\n",
       "      <td>1</td>\n",
       "    </tr>\n",
       "    <tr>\n",
       "      <th>4</th>\n",
       "      <td>11765</td>\n",
       "      <td>2018-01-09T19:07:04</td>\n",
       "      <td>3</td>\n",
       "    </tr>\n",
       "    <tr>\n",
       "      <th>5</th>\n",
       "      <td>11765</td>\n",
       "      <td>2018-01-09T19:07:05</td>\n",
       "      <td>2</td>\n",
       "    </tr>\n",
       "    <tr>\n",
       "      <th>6</th>\n",
       "      <td>11765</td>\n",
       "      <td>2018-01-09T19:07:15</td>\n",
       "      <td>12</td>\n",
       "    </tr>\n",
       "    <tr>\n",
       "      <th>7</th>\n",
       "      <td>62704</td>\n",
       "      <td>2018-02-14T04:06:03</td>\n",
       "      <td>1</td>\n",
       "    </tr>\n",
       "    <tr>\n",
       "      <th>8</th>\n",
       "      <td>99844</td>\n",
       "      <td>2018-03-11T23:06:21</td>\n",
       "      <td>1</td>\n",
       "    </tr>\n",
       "    <tr>\n",
       "      <th>9</th>\n",
       "      <td>99844</td>\n",
       "      <td>2018-03-11T23:06:22</td>\n",
       "      <td>2</td>\n",
       "    </tr>\n",
       "    <tr>\n",
       "      <th>10</th>\n",
       "      <td>164525</td>\n",
       "      <td>2018-04-25T21:06:56</td>\n",
       "      <td>3</td>\n",
       "    </tr>\n",
       "    <tr>\n",
       "      <th>11</th>\n",
       "      <td>164525</td>\n",
       "      <td>2018-04-25T21:07:35</td>\n",
       "      <td>1</td>\n",
       "    </tr>\n",
       "    <tr>\n",
       "      <th>12</th>\n",
       "      <td>164526</td>\n",
       "      <td>2018-04-25T21:07:42</td>\n",
       "      <td>2</td>\n",
       "    </tr>\n",
       "    <tr>\n",
       "      <th>13</th>\n",
       "      <td>164526</td>\n",
       "      <td>2018-04-25T21:07:46</td>\n",
       "      <td>1</td>\n",
       "    </tr>\n",
       "    <tr>\n",
       "      <th>14</th>\n",
       "      <td>164527</td>\n",
       "      <td>2018-04-25T21:09:15</td>\n",
       "      <td>1</td>\n",
       "    </tr>\n",
       "    <tr>\n",
       "      <th>15</th>\n",
       "      <td>164527</td>\n",
       "      <td>2018-04-25T21:09:33</td>\n",
       "      <td>1</td>\n",
       "    </tr>\n",
       "    <tr>\n",
       "      <th>16</th>\n",
       "      <td>164527</td>\n",
       "      <td>2018-04-25T21:09:35</td>\n",
       "      <td>3</td>\n",
       "    </tr>\n",
       "    <tr>\n",
       "      <th>17</th>\n",
       "      <td>164527</td>\n",
       "      <td>2018-04-25T21:09:36</td>\n",
       "      <td>1</td>\n",
       "    </tr>\n",
       "    <tr>\n",
       "      <th>18</th>\n",
       "      <td>164528</td>\n",
       "      <td>2018-04-25T21:09:55</td>\n",
       "      <td>1</td>\n",
       "    </tr>\n",
       "    <tr>\n",
       "      <th>19</th>\n",
       "      <td>164528</td>\n",
       "      <td>2018-04-25T21:09:56</td>\n",
       "      <td>2</td>\n",
       "    </tr>\n",
       "    <tr>\n",
       "      <th>20</th>\n",
       "      <td>164528</td>\n",
       "      <td>2018-04-25T21:10:03</td>\n",
       "      <td>4</td>\n",
       "    </tr>\n",
       "    <tr>\n",
       "      <th>21</th>\n",
       "      <td>164528</td>\n",
       "      <td>2018-04-25T21:10:04</td>\n",
       "      <td>1</td>\n",
       "    </tr>\n",
       "    <tr>\n",
       "      <th>22</th>\n",
       "      <td>164528</td>\n",
       "      <td>2018-04-25T21:10:13</td>\n",
       "      <td>1</td>\n",
       "    </tr>\n",
       "    <tr>\n",
       "      <th>23</th>\n",
       "      <td>173166</td>\n",
       "      <td>2018-05-01T21:08:01</td>\n",
       "      <td>2</td>\n",
       "    </tr>\n",
       "    <tr>\n",
       "      <th>24</th>\n",
       "      <td>232347</td>\n",
       "      <td>2018-06-11T23:29:15</td>\n",
       "      <td>2</td>\n",
       "    </tr>\n",
       "    <tr>\n",
       "      <th>25</th>\n",
       "      <td>232347</td>\n",
       "      <td>2018-06-11T23:29:23</td>\n",
       "      <td>4</td>\n",
       "    </tr>\n",
       "    <tr>\n",
       "      <th>26</th>\n",
       "      <td>232347</td>\n",
       "      <td>2018-06-11T23:29:24</td>\n",
       "      <td>1</td>\n",
       "    </tr>\n",
       "    <tr>\n",
       "      <th>27</th>\n",
       "      <td>232347</td>\n",
       "      <td>2018-06-11T23:29:27</td>\n",
       "      <td>1</td>\n",
       "    </tr>\n",
       "    <tr>\n",
       "      <th>28</th>\n",
       "      <td>232347</td>\n",
       "      <td>2018-06-11T23:29:36</td>\n",
       "      <td>1</td>\n",
       "    </tr>\n",
       "    <tr>\n",
       "      <th>29</th>\n",
       "      <td>232348</td>\n",
       "      <td>2018-06-11T23:30:15</td>\n",
       "      <td>1</td>\n",
       "    </tr>\n",
       "    <tr>\n",
       "      <th>30</th>\n",
       "      <td>232348</td>\n",
       "      <td>2018-06-11T23:30:16</td>\n",
       "      <td>1</td>\n",
       "    </tr>\n",
       "    <tr>\n",
       "      <th>31</th>\n",
       "      <td>232349</td>\n",
       "      <td>2018-06-11T23:30:40</td>\n",
       "      <td>1</td>\n",
       "    </tr>\n",
       "    <tr>\n",
       "      <th>32</th>\n",
       "      <td>232452</td>\n",
       "      <td>2018-06-12T01:14:06</td>\n",
       "      <td>3</td>\n",
       "    </tr>\n",
       "    <tr>\n",
       "      <th>33</th>\n",
       "      <td>232452</td>\n",
       "      <td>2018-06-12T01:14:07</td>\n",
       "      <td>1</td>\n",
       "    </tr>\n",
       "    <tr>\n",
       "      <th>34</th>\n",
       "      <td>232452</td>\n",
       "      <td>2018-06-12T01:14:18</td>\n",
       "      <td>1</td>\n",
       "    </tr>\n",
       "    <tr>\n",
       "      <th>35</th>\n",
       "      <td>232452</td>\n",
       "      <td>2018-06-12T01:14:19</td>\n",
       "      <td>6</td>\n",
       "    </tr>\n",
       "    <tr>\n",
       "      <th>36</th>\n",
       "      <td>232452</td>\n",
       "      <td>2018-06-12T01:14:20</td>\n",
       "      <td>1</td>\n",
       "    </tr>\n",
       "    <tr>\n",
       "      <th>37</th>\n",
       "      <td>232566</td>\n",
       "      <td>2018-06-12T03:07:54</td>\n",
       "      <td>1</td>\n",
       "    </tr>\n",
       "    <tr>\n",
       "      <th>38</th>\n",
       "      <td>232569</td>\n",
       "      <td>2018-06-12T03:10:50</td>\n",
       "      <td>1</td>\n",
       "    </tr>\n",
       "  </tbody>\n",
       "</table>\n",
       "</div>"
      ],
      "text/plain": [
       "    TimeFromOrigin               Submit  Freq\n",
       "0            10625  2018-01-09T00:06:37     2\n",
       "1            10625  2018-01-09T00:07:16     1\n",
       "2            10626  2018-01-09T00:08:01     1\n",
       "3            11764  2018-01-09T19:06:21     1\n",
       "4            11765  2018-01-09T19:07:04     3\n",
       "5            11765  2018-01-09T19:07:05     2\n",
       "6            11765  2018-01-09T19:07:15    12\n",
       "7            62704  2018-02-14T04:06:03     1\n",
       "8            99844  2018-03-11T23:06:21     1\n",
       "9            99844  2018-03-11T23:06:22     2\n",
       "10          164525  2018-04-25T21:06:56     3\n",
       "11          164525  2018-04-25T21:07:35     1\n",
       "12          164526  2018-04-25T21:07:42     2\n",
       "13          164526  2018-04-25T21:07:46     1\n",
       "14          164527  2018-04-25T21:09:15     1\n",
       "15          164527  2018-04-25T21:09:33     1\n",
       "16          164527  2018-04-25T21:09:35     3\n",
       "17          164527  2018-04-25T21:09:36     1\n",
       "18          164528  2018-04-25T21:09:55     1\n",
       "19          164528  2018-04-25T21:09:56     2\n",
       "20          164528  2018-04-25T21:10:03     4\n",
       "21          164528  2018-04-25T21:10:04     1\n",
       "22          164528  2018-04-25T21:10:13     1\n",
       "23          173166  2018-05-01T21:08:01     2\n",
       "24          232347  2018-06-11T23:29:15     2\n",
       "25          232347  2018-06-11T23:29:23     4\n",
       "26          232347  2018-06-11T23:29:24     1\n",
       "27          232347  2018-06-11T23:29:27     1\n",
       "28          232347  2018-06-11T23:29:36     1\n",
       "29          232348  2018-06-11T23:30:15     1\n",
       "30          232348  2018-06-11T23:30:16     1\n",
       "31          232349  2018-06-11T23:30:40     1\n",
       "32          232452  2018-06-12T01:14:06     3\n",
       "33          232452  2018-06-12T01:14:07     1\n",
       "34          232452  2018-06-12T01:14:18     1\n",
       "35          232452  2018-06-12T01:14:19     6\n",
       "36          232452  2018-06-12T01:14:20     1\n",
       "37          232566  2018-06-12T03:07:54     1\n",
       "38          232569  2018-06-12T03:10:50     1"
      ]
     },
     "execution_count": 19,
     "metadata": {},
     "output_type": "execute_result"
    }
   ],
   "source": [
    "df_timeout.groupby(\n",
    "    [\"TimeFromOrigin\", \"Submit\"]).size().reset_index(name='Freq')"
   ]
  },
  {
   "cell_type": "code",
   "execution_count": 20,
   "metadata": {},
   "outputs": [
    {
     "data": {
      "text/html": [
       "<div>\n",
       "<style scoped>\n",
       "    .dataframe tbody tr th:only-of-type {\n",
       "        vertical-align: middle;\n",
       "    }\n",
       "\n",
       "    .dataframe tbody tr th {\n",
       "        vertical-align: top;\n",
       "    }\n",
       "\n",
       "    .dataframe thead th {\n",
       "        text-align: right;\n",
       "    }\n",
       "</style>\n",
       "<table border=\"1\" class=\"dataframe\">\n",
       "  <thead>\n",
       "    <tr style=\"text-align: right;\">\n",
       "      <th></th>\n",
       "      <th>State</th>\n",
       "      <th>JobID</th>\n",
       "      <th>proctype</th>\n",
       "      <th>Submit</th>\n",
       "      <th>TimeFromOrigin</th>\n",
       "    </tr>\n",
       "  </thead>\n",
       "  <tbody>\n",
       "    <tr>\n",
       "      <th>1774</th>\n",
       "      <td>COMPLETED</td>\n",
       "      <td>23336315</td>\n",
       "      <td>fMRIQA_v3</td>\n",
       "      <td>2018-01-09T19:07:15</td>\n",
       "      <td>11765</td>\n",
       "    </tr>\n",
       "    <tr>\n",
       "      <th>1777</th>\n",
       "      <td>COMPLETED</td>\n",
       "      <td>23336320</td>\n",
       "      <td>fMRIQA_v3</td>\n",
       "      <td>2018-01-09T19:07:15</td>\n",
       "      <td>11765</td>\n",
       "    </tr>\n",
       "    <tr>\n",
       "      <th>1778</th>\n",
       "      <td>COMPLETED</td>\n",
       "      <td>23336316</td>\n",
       "      <td>fMRIQA_v2</td>\n",
       "      <td>2018-01-09T19:07:15</td>\n",
       "      <td>11765</td>\n",
       "    </tr>\n",
       "    <tr>\n",
       "      <th>1779</th>\n",
       "      <td>COMPLETED</td>\n",
       "      <td>23336299</td>\n",
       "      <td>fMRIQA_v3</td>\n",
       "      <td>2018-01-09T19:07:04</td>\n",
       "      <td>11765</td>\n",
       "    </tr>\n",
       "  </tbody>\n",
       "</table>\n",
       "</div>"
      ],
      "text/plain": [
       "          State     JobID   proctype               Submit  TimeFromOrigin\n",
       "1774  COMPLETED  23336315  fMRIQA_v3  2018-01-09T19:07:15           11765\n",
       "1777  COMPLETED  23336320  fMRIQA_v3  2018-01-09T19:07:15           11765\n",
       "1778  COMPLETED  23336316  fMRIQA_v2  2018-01-09T19:07:15           11765\n",
       "1779  COMPLETED  23336299  fMRIQA_v3  2018-01-09T19:07:04           11765"
      ]
     },
     "execution_count": 20,
     "metadata": {},
     "output_type": "execute_result"
    }
   ],
   "source": [
    "input = 11764\n",
    "min_time = df_apps.iloc[(df_apps[\"TimeFromOrigin\"]-input).abs().argsort()][:1][\"TimeFromOrigin\"].min()\n",
    "df_apps[df_apps.TimeFromOrigin == min_time][[\"State\", \"JobID\", \"proctype\", \"Submit\", \"TimeFromOrigin\"]]"
   ]
  },
  {
   "cell_type": "markdown",
   "metadata": {},
   "source": [
    "# Get submission profile"
   ]
  },
  {
   "cell_type": "code",
   "execution_count": 67,
   "metadata": {},
   "outputs": [
    {
     "data": {
      "text/html": [
       "<div>\n",
       "<style scoped>\n",
       "    .dataframe tbody tr th:only-of-type {\n",
       "        vertical-align: middle;\n",
       "    }\n",
       "\n",
       "    .dataframe tbody tr th {\n",
       "        vertical-align: top;\n",
       "    }\n",
       "\n",
       "    .dataframe thead th {\n",
       "        text-align: right;\n",
       "    }\n",
       "</style>\n",
       "<table border=\"1\" class=\"dataframe\">\n",
       "  <thead>\n",
       "    <tr style=\"text-align: right;\">\n",
       "      <th></th>\n",
       "      <th>ReqMem_num</th>\n",
       "      <th>Timelimit_num</th>\n",
       "      <th>Freq</th>\n",
       "    </tr>\n",
       "  </thead>\n",
       "  <tbody>\n",
       "    <tr>\n",
       "      <th>0</th>\n",
       "      <td>4096.0</td>\n",
       "      <td>30.0</td>\n",
       "      <td>443</td>\n",
       "    </tr>\n",
       "    <tr>\n",
       "      <th>1</th>\n",
       "      <td>8192.0</td>\n",
       "      <td>60.0</td>\n",
       "      <td>648</td>\n",
       "    </tr>\n",
       "    <tr>\n",
       "      <th>2</th>\n",
       "      <td>10240.0</td>\n",
       "      <td>120.0</td>\n",
       "      <td>4</td>\n",
       "    </tr>\n",
       "  </tbody>\n",
       "</table>\n",
       "</div>"
      ],
      "text/plain": [
       "   ReqMem_num  Timelimit_num  Freq\n",
       "0      4096.0           30.0   443\n",
       "1      8192.0           60.0   648\n",
       "2     10240.0          120.0     4"
      ]
     },
     "execution_count": 67,
     "metadata": {},
     "output_type": "execute_result"
    }
   ],
   "source": [
    "df = df[(df.proctype==\"fMRIQA_v2\") | (df.proctype==\"fMRIQA_v3\")]\n",
    "df.groupby([\"ReqMem_num\", \"Timelimit_num\"]).size().reset_index(name='Freq')"
   ]
  },
  {
   "cell_type": "code",
   "execution_count": 72,
   "metadata": {},
   "outputs": [
    {
     "data": {
      "image/png": "[encoded data removed]",
      "text/plain": [
       "<Figure size 864x576 with 1 Axes>"
      ]
     },
     "metadata": {},
     "output_type": "display_data"
    }
   ],
   "source": [
    "request = df[[\"ReqMem_num\", \"Timelimit_num\"]].drop_duplicates()\n",
    "\n",
    "fig, ax = plt.subplots(figsize=(12,8))\n",
    "sns.set(font_scale=2)\n",
    "sns.set_style(\"white\")\n",
    "\n",
    "# set the request times\n",
    "cnt = 1\n",
    "for i in request.values:\n",
    "    # time in database is in min\n",
    "    plt.plot([i[1], i[1]], [0, i[0]], color=color_list[cnt])\n",
    "    plt.plot([0, i[1]], [i[0], i[0]], color=color_list[cnt])\n",
    "    app_running = df[(df.ReqMem_num == i[0]) & (df.Timelimit_num == i[1])][\"proctype\"].unique()\n",
    "    if len(app_running) == 1:\n",
    "        app_running = app_running[0]\n",
    "    else:\n",
    "        app_running = \"both\"\n",
    "    sns.scatterplot(y=\"memused\", x=\"Walltime_num\", #marker=marker_list[cnt % 2],\n",
    "                    data=df[(df.Timelimit_num == i[1]) & (df.ReqMem_num == i[0])],\n",
    "                    color = color_list[cnt], label=\"%s Count: %d\" %(\n",
    "                        app_running,\n",
    "                        len(df[(df.Timelimit_num == i[1]) & (df.ReqMem_num == i[0])])))\n",
    "    cnt += 1\n",
    "ax = sns.scatterplot(y=\"memused\", x=\"Walltime_num\",\n",
    "                     data=df_accre[df_accre.State==\"TIMEOUT\"],\n",
    "                     color = color_list[0], marker='x', s=100,\n",
    "                     label=\"Failed: %d\" %(len(df_accre[df_accre.State==\"TIMEOUT\"])))\n",
    "\n",
    "plt.grid(True)\n",
    "ax.set_xlabel('Walltime (min)')\n",
    "ax.set_ylabel('Memory (MB)')\n",
    "ax.set_title(dataset)\n",
    "#ax.set_xscale('log', basex=2)\n",
    "#ax.set_yscale('log', basey=2)\n",
    "\n",
    "#plt.savefig(\"figures/time_fail_%s.png\" %(dataset), bbox_inches = 'tight')\n",
    "plt.show()"
   ]
  },
  {
   "cell_type": "code",
   "execution_count": null,
   "metadata": {},
   "outputs": [],
   "source": []
  }
 ],
 "metadata": {
  "kernelspec": {
   "display_name": "Python 3",
   "language": "python",
   "name": "python3"
  },
  "language_info": {
   "codemirror_mode": {
    "name": "ipython",
    "version": 3
   },
   "file_extension": ".py",
   "mimetype": "text/x-python",
   "name": "python",
   "nbconvert_exporter": "python",
   "pygments_lexer": "ipython3",
   "version": "3.7.6"
  }
 },
 "nbformat": 4,
 "nbformat_minor": 4
}
