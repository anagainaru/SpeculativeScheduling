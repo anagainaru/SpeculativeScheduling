{
 "cells": [
  {
   "cell_type": "markdown",
   "metadata": {},
   "source": [
    "# Examples of generating a request sequence\n",
    "## - using the WorkloadFit class\n",
    "\n",
    "Read data \n",
    " * Log data for neuroscience applications\n",
    " * Array of past execution times"
   ]
  },
  {
   "cell_type": "code",
   "execution_count": 1,
   "metadata": {},
   "outputs": [],
   "source": [
    "%matplotlib inline\n",
    "\n",
    "import matplotlib.pyplot as plt\n",
    "import pandas as pd\n",
    "import numpy as np\n",
    "import seaborn as sns\n",
    "import scipy.stats as st\n",
    "\n",
    "import WorkloadFit"
   ]
  },
  {
   "cell_type": "markdown",
   "metadata": {},
   "source": [
    "# Log data\n",
    "\n",
    "`cost_model = WorkloadFit.LogDataCost(data)`\n",
    "\n",
    "- using the discrete data\n",
    "- using both interpolation models (polynomial and distribution) to go through a continuous fit"
   ]
  },
  {
   "cell_type": "code",
   "execution_count": 2,
   "metadata": {},
   "outputs": [
    {
     "name": "stdout",
     "output_type": "stream",
     "text": [
      "Total entries in the historic data: 3774\n"
     ]
    }
   ],
   "source": [
    "dataset = \"ACCRE/FSL_First.out\"\n",
    "data = np.loadtxt(dataset, delimiter=' ')\n",
    "print(\"Total entries in the historic data: %d\" %(len(data)))"
   ]
  },
  {
   "cell_type": "code",
   "execution_count": 3,
   "metadata": {},
   "outputs": [
    {
     "name": "stdout",
     "output_type": "stream",
     "text": [
      "Discrete sequence: [1328.0, 1783.0, 2308.0, 3219.0]\n"
     ]
    }
   ],
   "source": [
    "wf = WorkloadFit.WorkloadFit(data, bins=100)\n",
    "sequence = wf.compute_discrete_sequence()\n",
    "print(\"Discrete sequence: %s\" %(sequence))"
   ]
  },
  {
   "cell_type": "code",
   "execution_count": 5,
   "metadata": {},
   "outputs": [
    {
     "name": "stdout",
     "output_type": "stream",
     "text": [
      "Best fit sequence: [1423.356, 1899.62, 2446.68, 3032.3559999999998, 3212.564, 3219.0]\n"
     ]
    }
   ],
   "source": [
    "wf.set_interpolation_model([WorkloadFit.PolyInterpolation(max_order=10),\n",
    "                            WorkloadFit.DistInterpolation()])\n",
    "sequence = wf.compute_interpolation_sequence()\n",
    "print(\"Best fit sequence: %s\" %(sequence))"
   ]
  },
  {
   "cell_type": "code",
   "execution_count": null,
   "metadata": {},
   "outputs": [],
   "source": []
  }
 ],
 "metadata": {
  "kernelspec": {
   "display_name": "Python 3",
   "language": "python",
   "name": "python3"
  },
  "language_info": {
   "codemirror_mode": {
    "name": "ipython",
    "version": 3
   },
   "file_extension": ".py",
   "mimetype": "text/x-python",
   "name": "python",
   "nbconvert_exporter": "python",
   "pygments_lexer": "ipython3",
   "version": "3.7.3"
  }
 },
 "nbformat": 4,
 "nbformat_minor": 4
}
