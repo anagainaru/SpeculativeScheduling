{
 "cells": [
  {
   "cell_type": "markdown",
   "metadata": {},
   "source": [
    "# Examples of generating a request sequence\n",
    "## - using the WorkloadFit class\n",
    "\n",
    "Read data \n",
    " * Log data for neuroscience applications\n",
    " * Array of past execution times"
   ]
  },
  {
   "cell_type": "code",
   "execution_count": 3,
   "metadata": {},
   "outputs": [],
   "source": [
    "%matplotlib inline\n",
    "\n",
    "import matplotlib.pyplot as plt\n",
    "import pandas as pd\n",
    "import numpy as np\n",
    "import seaborn as sns\n",
    "import scipy.stats as st\n",
    "\n",
    "import WorkloadFit\n",
    "import OptimalSequence"
   ]
  },
  {
   "cell_type": "code",
   "execution_count": 4,
   "metadata": {},
   "outputs": [],
   "source": [
    "bins=100"
   ]
  },
  {
   "cell_type": "markdown",
   "metadata": {},
   "source": [
    "# Log data\n",
    "\n",
    "`cost_model = WorkloadFit.LogDataCost(data)`\n",
    "\n",
    "- using the discrete data\n",
    "- using both interpolation models (polynomial and distribution) to go through a continuous fit"
   ]
  },
  {
   "cell_type": "code",
   "execution_count": 5,
   "metadata": {},
   "outputs": [
    {
     "name": "stdout",
     "output_type": "stream",
     "text": [
      "Total entries in the historic data: 5276\n"
     ]
    }
   ],
   "source": [
    "dataset = \"ACCRE/dtiQA_v2.out\"\n",
    "data = np.loadtxt(dataset, delimiter=' ')\n",
    "print(\"Total entries in the historic data: %d\" %(len(data)))"
   ]
  },
  {
   "cell_type": "code",
   "execution_count": 6,
   "metadata": {},
   "outputs": [
    {
     "name": "stdout",
     "output_type": "stream",
     "text": [
      "Discrete sequence: [(129614.0,), (148864.0,), (172825.0,)]\n"
     ]
    }
   ],
   "source": [
    "wf = WorkloadFit.WorkloadFit(data, bins=bins)\n",
    "discrete_sequence = wf.compute_discrete_sequence()\n",
    "print(\"Discrete sequence: %s\" %(discrete_sequence))"
   ]
  },
  {
   "cell_type": "code",
   "execution_count": 7,
   "metadata": {},
   "outputs": [
    {
     "name": "stdout",
     "output_type": "stream",
     "text": [
      "Best fit sequence: [(112777.054,), (152173.59,), (172825.0,)]\n"
     ]
    }
   ],
   "source": [
    "wf.set_interpolation_model([WorkloadFit.PolyInterpolation(max_order=10),\n",
    "                            WorkloadFit.DistInterpolation()])\n",
    "sequence = wf.compute_interpolation_sequence()\n",
    "print(\"Best fit sequence: %s\" %(sequence))"
   ]
  },
  {
   "cell_type": "code",
   "execution_count": 6,
   "metadata": {},
   "outputs": [
    {
     "name": "stdout",
     "output_type": "stream",
     "text": [
      "Best fit sequence (with checkpoints): [(172825.0, 1)]\n"
     ]
    }
   ],
   "source": [
    "# compute the sequence when checkpoints are taken before the reservation end\n",
    "wf.change_default_sequence_model(OptimalSequence.CheckpointSequence)\n",
    "wf.set_interpolation_model([WorkloadFit.DistInterpolation()])\n",
    "check_sequence = wf.compute_interpolation_sequence()\n",
    "print(\"Best fit sequence (with checkpoints): %s\" %(check_sequence))"
   ]
  },
  {
   "cell_type": "code",
   "execution_count": 8,
   "metadata": {},
   "outputs": [
    {
     "data": {
      "image/png": "[encoded data removed]",
      "text/plain": [
       "<Figure size 864x576 with 1 Axes>"
      ]
     },
     "metadata": {
      "needs_background": "light"
     },
     "output_type": "display_data"
    }
   ],
   "source": [
    "y, x = np.histogram(data, bins=bins, density=True)\n",
    "x = (x + np.roll(x, -1))[:-1] / 2.0\n",
    "\n",
    "fig, ax = plt.subplots(figsize=(12,8))\n",
    "sns.set(font_scale=2)\n",
    "sns.set_style(\"white\")\n",
    "ax.hist(data, bins=bins, density=True, histtype='stepfilled', alpha=0.3)\n",
    "\n",
    "ax.vlines(discrete_sequence[0], min(y), max(y), colors='b', lw=2,\n",
    "          linestyles='solid', label='discrete')\n",
    "for i in range(1,len(discrete_sequence)):\n",
    "    ax.vlines(discrete_sequence[i], min(y), max(y), colors='b', lw=2, linestyles='solid')\n",
    "\n",
    "ax.vlines(sequence[0], min(y), max(y), colors='r', linestyles='dashed', lw=2, label='continuous')\n",
    "for i in range(1,len(sequence)):\n",
    "    ax.vlines(sequence[i], min(y), max(y), colors='r', linestyles='dashed', lw=2)\n",
    "#ax.vlines(max(data), min(y), max(y), colors='k', linestyles='solid')\n",
    "\n",
    "ax.legend(shadow=True)\n",
    "plt.grid(True)\n",
    "ax.set_xlabel('Execution time')\n",
    "ax.set_ylabel('Probability')\n",
    "plt.show()"
   ]
  },
  {
   "cell_type": "code",
   "execution_count": null,
   "metadata": {},
   "outputs": [],
   "source": []
  }
 ],
 "metadata": {
  "kernelspec": {
   "display_name": "Python 3",
   "language": "python",
   "name": "python3"
  },
  "language_info": {
   "codemirror_mode": {
    "name": "ipython",
    "version": 3
   },
   "file_extension": ".py",
   "mimetype": "text/x-python",
   "name": "python",
   "nbconvert_exporter": "python",
   "pygments_lexer": "ipython3",
   "version": "3.7.3"
  }
 },
 "nbformat": 4,
 "nbformat_minor": 4
}
