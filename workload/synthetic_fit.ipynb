{
 "cells": [
  {
   "cell_type": "code",
   "execution_count": 1,
   "metadata": {},
   "outputs": [],
   "source": [
    "import numpy as np\n",
    "import scipy.stats as st\n",
    "import warnings\n",
    "import matplotlib.pyplot as plt\n",
    "import sys\n",
    "import scipy.integrate as integrate\n",
    "\n",
    "import OptimalSequence"
   ]
  },
  {
   "cell_type": "code",
   "execution_count": 2,
   "metadata": {},
   "outputs": [],
   "source": [
    "number_samples = 380"
   ]
  },
  {
   "cell_type": "markdown",
   "metadata": {},
   "source": [
    "# Generate data\n",
    "### Using truncnormal \n",
    "between 0 and 20 with `mean=8`, `sigma=2`"
   ]
  },
  {
   "cell_type": "code",
   "execution_count": 3,
   "metadata": {},
   "outputs": [
    {
     "name": "stdout",
     "output_type": "stream",
     "text": [
      "Bounds: (1.4 13.5) mean=7.9; sigma=2.0\n"
     ]
    }
   ],
   "source": [
    "upper_limit = 20\n",
    "lower_limit = 0\n",
    "\n",
    "upper_bound = (upper_limit - 8) / 2\n",
    "lower_bound = (lower_limit - 8) / 2\n",
    "\n",
    "mu = 8\n",
    "sigma = 2\n",
    "\n",
    "data = st.truncnorm.rvs(lower_bound, upper_bound, loc=8, scale=2, size=number_samples)\n",
    "print(\"Bounds: (%3.1f %3.1f) mean=%3.1f; sigma=%3.1f\" %(min(data), max(data), np.mean(data), np.std(data)))"
   ]
  },
  {
   "cell_type": "markdown",
   "metadata": {},
   "source": [
    "# Funcion to compute the cost \n",
    "### Using TOPtimal to compute the sequence"
   ]
  },
  {
   "cell_type": "code",
   "execution_count": 14,
   "metadata": {},
   "outputs": [],
   "source": [
    "def compute_cost(cdf, print_sequence=False, limits = [lower_limit, upper_limit]):\n",
    "    handler = OptimalSequence.TOptimalSequence(limits[0], limits[1], cdf, discret_samples=500)\n",
    "    sequence = handler.compute_request_sequence()\n",
    "    if sequence[-1]!=upper_limit:\n",
    "        sequence[-1] = upper_limit\n",
    "    arg = [lower_bound, upper_bound]\n",
    "    if print_sequence:\n",
    "        print(sequence)\n",
    "\n",
    "    # Compute the expected makespan (MS)\n",
    "    MS = sum([sequence[i+1]*(1-st.truncnorm.cdf(sequence[i], loc=mu, scale=sigma, *arg))\n",
    "              for i in range(len(sequence)-1)])\n",
    "    MS += sequence[0]\n",
    "    # MS = sum([sequence[i+1]*cdf(sequence[i]) for i in range(len(sequence)-1)])\n",
    "    return MS"
   ]
  },
  {
   "cell_type": "markdown",
   "metadata": {},
   "source": [
    "# Fitting the data using a list of distributions"
   ]
  },
  {
   "cell_type": "code",
   "execution_count": 5,
   "metadata": {},
   "outputs": [],
   "source": [
    "dist_list = [        \n",
    "            st.alpha,st.beta,st.cosine,st.dgamma,st.dweibull,st.exponnorm,st.exponweib,\n",
    "            st.exponpow,st.genpareto,st.gamma,st.halfnorm,st.invgauss,st.invweibull,\n",
    "            st.laplace,st.loggamma,st.lognorm,st.lomax,st.maxwell,st.norm,st.pareto,\n",
    "            #st.pearson3,\n",
    "            st.rayleigh,st.rice,st.truncexpon,st.truncnorm,st.uniform,\n",
    "            st.weibull_min,st.weibull_max\n",
    "        ]"
   ]
  },
  {
   "cell_type": "code",
   "execution_count": 6,
   "metadata": {},
   "outputs": [
    {
     "name": "stdout",
     "output_type": "stream",
     "text": [
      "[====================================================================================="
     ]
    },
    {
     "name": "stderr",
     "output_type": "stream",
     "text": [
      "/opt/conda/lib/python3.7/site-packages/scipy/stats/_continuous_distns.py:1420: RuntimeWarning: overflow encountered in exp\n",
      "  return _norm_cdf(x) - np.exp(expval) * _norm_cdf(x - invK)\n",
      "/opt/conda/lib/python3.7/site-packages/scipy/stats/_continuous_distns.py:1420: RuntimeWarning: invalid value encountered in multiply\n",
      "  return _norm_cdf(x) - np.exp(expval) * _norm_cdf(x - invK)\n"
     ]
    },
    {
     "name": "stdout",
     "output_type": "stream",
     "text": [
      "===============]\n"
     ]
    }
   ],
   "source": [
    "best_fit = [np.inf, 0, 0, 0, [0, 0, 0]]\n",
    "worse_fit = [0, 0, 0, 0, [0, 0, 0]]\n",
    "sys.stdout.write(\"[\")\n",
    "for i in range(100):\n",
    "    data = st.truncnorm.rvs(lower_bound, upper_bound, loc=mu, scale=sigma, size=number_samples)\n",
    "\n",
    "    # Best holders\n",
    "    best_distribution = -1\n",
    "    best_params = (0.0, 1.0)\n",
    "    best_sse = np.inf\n",
    "    best_cost = -1\n",
    "\n",
    "    norm_distribution = []\n",
    "    truncnorm_distribution = []\n",
    "\n",
    "    # Estimate distribution parameters from data\n",
    "    for distribution in dist_list:\n",
    "        # Try to fit the distribution\n",
    "        try:\n",
    "            # Ignore warnings from data that can't be fit\n",
    "            with warnings.catch_warnings():\n",
    "                warnings.filterwarnings('ignore')\n",
    "\n",
    "                # fit dist to data\n",
    "                params = distribution.fit(data)\n",
    "\n",
    "                # Separate parts of parameters\n",
    "                arg = params[:-2]\n",
    "                loc = params[-2]\n",
    "                scale = params[-1]\n",
    "\n",
    "                # Compute the histogram for the data\n",
    "                y, x = np.histogram(data, bins=100, density=True)\n",
    "                x = (x + np.roll(x, -1))[:-1] / 2.0\n",
    "\n",
    "                # Calculate fitted PDF and error with fit in distribution\n",
    "                pdf = distribution.pdf(x, loc=loc, scale=scale, *arg)\n",
    "                sse = np.sum(np.power(y - pdf, 2.0))\n",
    "\n",
    "                if distribution.name == \"norm\" or distribution.name == \"truncnorm\":\n",
    "                    arg = params[:-2]\n",
    "                    cdf = lambda val: distribution.cdf(val, loc=params[-2], scale=params[-1], *arg)\n",
    "                    cost = compute_cost(cdf)\n",
    "                    \n",
    "                if distribution.name == \"norm\":\n",
    "                    norm_distribution = [sse, params, cost]\n",
    "\n",
    "                if distribution.name == \"truncnorm\":\n",
    "                    truncnorm_distribution = [sse, params, cost]\n",
    "\n",
    "                # identify if this distribution is better\n",
    "                if best_sse > sse > 0:\n",
    "                    best_distribution = distribution\n",
    "                    best_params = params\n",
    "                    best_sse = sse\n",
    "\n",
    "        except Exception:\n",
    "            pass\n",
    "\n",
    "    arg = best_params[:-2]\n",
    "    cdf = lambda val: best_distribution.cdf(val, loc=best_params[-2], scale=best_params[-1], *arg)\n",
    "    best_cost = compute_cost(cdf)\n",
    "            \n",
    "    if np.abs(best_cost - norm_distribution[2]) < np.abs(best_fit[0] - best_fit[4][2]) and best_distribution.name != \"norm\":\n",
    "        best_fit = [best_cost, best_sse, best_distribution, best_params, norm_distribution]\n",
    "    if np.abs(best_cost - norm_distribution[2]) > np.abs(worse_fit[0] - worse_fit[4][2]):\n",
    "        worse_fit = [best_cost, best_sse, best_distribution, best_params, norm_distribution]\n",
    "    sys.stdout.write(\"=\")\n",
    "\n",
    "sys.stdout.write(\"]\\n\")"
   ]
  },
  {
   "cell_type": "markdown",
   "metadata": {},
   "source": [
    "# Plot data\n",
    "### worse and best fit compared to the norm fit\n",
    "* the best fit and \n",
    "* the norm distributions"
   ]
  },
  {
   "cell_type": "code",
   "execution_count": 7,
   "metadata": {},
   "outputs": [
    {
     "name": "stdout",
     "output_type": "stream",
     "text": [
      "Best fit cost 11.938229 \n",
      "Norm cost 11.938229 (diff 0.000000)\n"
     ]
    },
    {
     "data": {
      "image/png": "[encoded data removed]",
      "text/plain": [
       "<Figure size 432x288 with 1 Axes>"
      ]
     },
     "metadata": {
      "needs_background": "light"
     },
     "output_type": "display_data"
    }
   ],
   "source": [
    "# Best fit\n",
    "\n",
    "print(\"Best fit cost %f \\nNorm cost %f (diff %f)\" %(best_fit[0], best_fit[4][2], best_fit[0]-best_fit[4][2]))\n",
    "fig, ax = plt.subplots(1, 1)\n",
    "# plot the best fit line\n",
    "best_distribution = best_fit[2]\n",
    "best_params = best_fit[3]\n",
    "ax.plot(x, best_distribution.pdf(x, loc=best_params[-2], scale=best_params[-1], *best_params[:-2]),\n",
    "        'k--', lw=1, alpha=1.0, label='%s fit' %(best_distribution.name))\n",
    "# plot the normal line\n",
    "ax.plot(x, st.norm.pdf(x, *best_fit[4][1]),\n",
    "        'r-', lw=3, alpha=0.4, label='norm fit')\n",
    "ax.hist(data, bins=100, density=True, histtype='stepfilled', alpha=0.3)\n",
    "ax.legend(shadow=True)\n",
    "plt.grid(True)\n",
    "\n",
    "plt.show()"
   ]
  },
  {
   "cell_type": "code",
   "execution_count": 8,
   "metadata": {},
   "outputs": [
    {
     "name": "stdout",
     "output_type": "stream",
     "text": [
      "Worse fit cost 19.833439 \n",
      "Norm cost 11.942365 (diff 7.891074)\n",
      "\n",
      "rice sequence:[5.48, 8.040000000000001, 10.08, 11.84, 13.44, 14.92, 16.28, 17.56, 18.8, 19.8, 19.96, 20.0]\n",
      "norm sequence:[10.92, 13.6, 15.68, 17.48, 19.080000000000002, 19.96, 20.0]\n"
     ]
    },
    {
     "data": {
      "image/png": "[encoded data removed]",
      "text/plain": [
       "<Figure size 432x288 with 1 Axes>"
      ]
     },
     "metadata": {
      "needs_background": "light"
     },
     "output_type": "display_data"
    }
   ],
   "source": [
    "# Worse fit\n",
    "\n",
    "print(\"Worse fit cost %f \\nNorm cost %f (diff %f)\\n\" %(worse_fit[0], worse_fit[4][2], worse_fit[0]-worse_fit[4][2]))\n",
    "worse_distribution = worse_fit[2]\n",
    "worse_params = worse_fit[3]\n",
    "\n",
    "sys.stdout.write(worse_distribution.name+\" sequence:\")\n",
    "arg = worse_params[:-2]\n",
    "cdf = lambda val: worse_distribution.cdf(val, loc=worse_params[-2], scale=worse_params[-1], *arg)\n",
    "worse_cost = compute_cost(cdf, print_sequence=True)\n",
    "\n",
    "sys.stdout.write(\"norm sequence:\")\n",
    "arg = worse_fit[4][1][:-2]\n",
    "cdf = lambda val: st.norm.cdf(val, loc=worse_fit[4][1][-2], scale=worse_fit[4][1][-1], *arg)\n",
    "worse_cost = compute_cost(cdf, print_sequence=True)\n",
    "\n",
    "\n",
    "fig, ax = plt.subplots(1, 1)\n",
    "# plot the best fit line\n",
    "ax.plot(x, worse_distribution.cdf(x, loc=worse_params[-2], scale=worse_params[-1], *worse_params[:-2]),\n",
    "        'k--', lw=1, alpha=1.0, label='%s fit' %(worse_distribution.name))\n",
    "# plot the normal line\n",
    "ax.plot(x, st.norm.cdf(x, *worse_fit[4][1]),\n",
    "        'r-', lw=3, alpha=0.4, label='norm fit')\n",
    "ax.hist(data, bins=100, density=True, histtype='stepfilled', alpha=0.3)\n",
    "ax.legend(shadow=True)\n",
    "plt.grid(True)\n",
    "\n",
    "plt.show()"
   ]
  },
  {
   "cell_type": "markdown",
   "metadata": {},
   "source": [
    "# Documenting python limitations\n",
    "\n",
    "The PDF fits the data well (close to the norm distribution), however:\n",
    "\n",
    "### Pearson 3 distribution\n",
    "When the skew parameter is negative, the CDF is decreasing from 1 to 0\n",
    "\n",
    "### Rice distribution\n",
    "In some cases, the CDF is 1 for all values"
   ]
  },
  {
   "cell_type": "code",
   "execution_count": 9,
   "metadata": {},
   "outputs": [
    {
     "data": {
      "image/png": "[encoded data removed]",
      "text/plain": [
       "<Figure size 432x288 with 1 Axes>"
      ]
     },
     "metadata": {
      "needs_background": "light"
     },
     "output_type": "display_data"
    },
    {
     "name": "stdout",
     "output_type": "stream",
     "text": [
      "0.9993400724474001\n"
     ]
    },
    {
     "data": {
      "text/plain": [
       "True"
      ]
     },
     "execution_count": 9,
     "metadata": {},
     "output_type": "execute_result"
    }
   ],
   "source": [
    "data = st.pearson3.rvs(-0.5, loc=8, scale=2, size=number_samples)\n",
    "fig, ax = plt.subplots(1, 1)\n",
    "ax.plot(x, st.pearson3.cdf(x, -0.5, loc=8, scale=2),\n",
    "        'r-', lw=3, alpha=0.4, label='pearson3 cdf')\n",
    "ax.hist(data, bins=100, density=True, histtype='stepfilled', alpha=0.3)\n",
    "ax.legend(shadow=True)\n",
    "plt.grid(True)\n",
    "\n",
    "plt.show()\n",
    "print(st.pearson3.cdf(0, -0.5, loc=8, scale=2))\n",
    "np.isclose(st.pearson3.cdf(0, -0.5, loc=8, scale=2), 1, rtol=1e-03)"
   ]
  },
  {
   "cell_type": "code",
   "execution_count": 10,
   "metadata": {},
   "outputs": [
    {
     "data": {
      "image/png": "[encoded data removed]",
      "text/plain": [
       "<Figure size 432x288 with 1 Axes>"
      ]
     },
     "metadata": {
      "needs_background": "light"
     },
     "output_type": "display_data"
    },
    {
     "name": "stdout",
     "output_type": "stream",
     "text": [
      "1.000000000003714\n"
     ]
    }
   ],
   "source": [
    "data = st.rice.rvs(160, loc=-312, scale=2, size=number_samples)\n",
    "fig, ax = plt.subplots(1, 1)\n",
    "ax.plot(x, st.rice.cdf(x, 160, loc=-312, scale=2),\n",
    "        'r-', lw=3, alpha=0.4, label='rice cdf')\n",
    "ax.hist(data, bins=100, density=True, histtype='stepfilled', alpha=0.3)\n",
    "ax.legend(shadow=True)\n",
    "plt.grid(True)\n",
    "\n",
    "plt.show()\n",
    "print(st.rice.cdf(0, 160, loc=-312, scale=2))"
   ]
  },
  {
   "cell_type": "markdown",
   "metadata": {},
   "source": [
    "# Polynomial fit"
   ]
  },
  {
   "cell_type": "code",
   "execution_count": 11,
   "metadata": {},
   "outputs": [],
   "source": [
    "def get_cdf(start, x, params):\n",
    "    return integrate.quad(np.poly1d(params), start, x, epsrel=1.49e-05)[0]"
   ]
  },
  {
   "cell_type": "code",
   "execution_count": 15,
   "metadata": {},
   "outputs": [
    {
     "name": "stdout",
     "output_type": "stream",
     "text": [
      "Polynomial Order 5 [ 5.76203368e-05 -1.76780186e-03  1.79537505e-02 -6.68584047e-02\n",
      "  7.46225364e-02  4.03327358e-02]\n",
      "Cost 11.99962040632441\n"
     ]
    }
   ],
   "source": [
    "data = st.truncnorm.rvs(lower_bound, upper_bound, loc=mu, scale=sigma, size=number_samples)\n",
    "y, x = np.histogram(data, bins=100, density=True)\n",
    "x = (x + np.roll(x, -1))[:-1] / 2.0\n",
    "best_err = np.inf\n",
    "best_z = -1\n",
    "for order in range(1,6):\n",
    "    with warnings.catch_warnings():\n",
    "        warnings.simplefilter(\"error\")\n",
    "        try:\n",
    "            z = np.polyfit(x, y, order)\n",
    "        except:\n",
    "            break\n",
    "\n",
    "        err = np.sum((np.polyval(z, x) - y)**2)\n",
    "        if err < best_err:\n",
    "            best_order = order\n",
    "            best_z = z\n",
    "            best_err = err\n",
    "\n",
    "cdf = lambda val: get_cdf(x[0], val, best_z)\n",
    "cost = compute_cost(cdf, limits=[x[0], x[-1]])\n",
    "print(\"Polynomial Order\", best_order, best_z)\n",
    "print(\"Cost\", cost)"
   ]
  },
  {
   "cell_type": "code",
   "execution_count": 16,
   "metadata": {},
   "outputs": [
    {
     "data": {
      "image/png": "[encoded data removed]",
      "text/plain": [
       "<Figure size 432x288 with 1 Axes>"
      ]
     },
     "metadata": {
      "needs_background": "light"
     },
     "output_type": "display_data"
    }
   ],
   "source": [
    "#print([cdf(i) for i in x])\n",
    "fig, ax = plt.subplots(1, 1)\n",
    "ax.plot(x, [cdf(i) for i in x], 'k--', lw=3, alpha=0.4, label='ploynomial cdf')\n",
    "ax.plot(x, st.norm.cdf(x, loc=mu, scale=sigma),\n",
    "        'r-', lw=3, alpha=0.4, label='norm cdf')\n",
    "\n",
    "ax.hist(data, bins=100, density=True, histtype='stepfilled', alpha=0.3)\n",
    "ax.plot(x, np.polyval(z, x), label='ploynomial line')\n",
    "ax.legend(shadow=True)\n",
    "plt.grid(True)\n",
    "\n",
    "plt.show()"
   ]
  },
  {
   "cell_type": "code",
   "execution_count": null,
   "metadata": {},
   "outputs": [],
   "source": []
  }
 ],
 "metadata": {
  "kernelspec": {
   "display_name": "Python 3",
   "language": "python",
   "name": "python3"
  },
  "language_info": {
   "codemirror_mode": {
    "name": "ipython",
    "version": 3
   },
   "file_extension": ".py",
   "mimetype": "text/x-python",
   "name": "python",
   "nbconvert_exporter": "python",
   "pygments_lexer": "ipython3",
   "version": "3.7.3"
  }
 },
 "nbformat": 4,
 "nbformat_minor": 4
}
