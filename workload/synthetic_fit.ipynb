{
 "cells": [
  {
   "cell_type": "code",
   "execution_count": 1,
   "metadata": {},
   "outputs": [],
   "source": [
    "import numpy as np\n",
    "import scipy.stats as st\n",
    "import warnings\n",
    "import matplotlib.pyplot as plt\n",
    "\n",
    "import OptimalSequence"
   ]
  },
  {
   "cell_type": "code",
   "execution_count": 2,
   "metadata": {},
   "outputs": [],
   "source": [
    "number_samples = 200"
   ]
  },
  {
   "cell_type": "markdown",
   "metadata": {},
   "source": [
    "# Generate data\n",
    "### Using truncnormal \n",
    "between 0 and 20 with `mean=8`, `sigma=2`"
   ]
  },
  {
   "cell_type": "code",
   "execution_count": 3,
   "metadata": {},
   "outputs": [
    {
     "name": "stdout",
     "output_type": "stream",
     "text": [
      "Bounds: (3.1 14.3) mean=8.1; sigma=2.0\n"
     ]
    }
   ],
   "source": [
    "upper_limit = 20\n",
    "lower_limit = 0\n",
    "\n",
    "upper_bound = (upper_limit - 8) / 2\n",
    "lower_bound = (lower_limit - 8) / 2\n",
    "\n",
    "mu = 8\n",
    "sigma = 2\n",
    "\n",
    "data = st.truncnorm.rvs(lower_bound, upper_bound, loc=8, scale=2, size=number_samples)\n",
    "print(\"Bounds: (%3.1f %3.1f) mean=%3.1f; sigma=%3.1f\" %(min(data), max(data), np.mean(data), np.std(data)))"
   ]
  },
  {
   "cell_type": "markdown",
   "metadata": {},
   "source": [
    "# Funcion to compute the cost \n",
    "### Using TOPtimal to compute the sequence"
   ]
  },
  {
   "cell_type": "code",
   "execution_count": 10,
   "metadata": {},
   "outputs": [],
   "source": [
    "def compute_cost(cdf, print_sequence=False):\n",
    "    handler = OptimalSequence.TOptimalSequence(lower_limit, upper_limit, cdf, discret_samples=500)\n",
    "    sequence = handler.compute_request_sequence()\n",
    "    arg = [lower_bound, upper_bound]\n",
    "    if print_sequence:\n",
    "        print(sequence)\n",
    "\n",
    "    # Compute the expected makespan (MS)\n",
    "    MS = sum([sequence[i+1]*(1-st.truncnorm.cdf(sequence[i], loc=mu, scale=sigma, *arg))\n",
    "              for i in range(len(sequence)-1)])\n",
    "    MS += sequence[0]\n",
    "    # MS = sum([sequence[i+1]*cdf(sequence[i]) for i in range(len(sequence)-1)])\n",
    "    return MS"
   ]
  },
  {
   "cell_type": "markdown",
   "metadata": {},
   "source": [
    "# Fitting the data using a list of distributions"
   ]
  },
  {
   "cell_type": "code",
   "execution_count": 5,
   "metadata": {},
   "outputs": [],
   "source": [
    "dist_list = [        \n",
    "            st.alpha,st.beta,st.cosine,st.dgamma,st.dweibull,st.exponnorm,st.exponweib,\n",
    "            st.exponpow,st.genpareto,st.gamma,st.halfnorm,st.invgauss,st.invweibull,\n",
    "            st.laplace,st.loggamma,st.lognorm,st.lomax,st.maxwell,st.norm,st.pareto,\n",
    "            st.pearson3,st.rayleigh,st.rice,st.truncexpon,st.truncnorm,st.uniform,\n",
    "            st.weibull_min,st.weibull_max\n",
    "        ]"
   ]
  },
  {
   "cell_type": "code",
   "execution_count": 6,
   "metadata": {},
   "outputs": [],
   "source": [
    "best_fit = [np.inf, 0, 0, 0, [0, 0, 0]]\n",
    "worse_fit = [0, 0, 0, 0, [0, 0, 0]]\n",
    "for i in range(100):\n",
    "    data = st.truncnorm.rvs(lower_bound, upper_bound, loc=mu, scale=sigma, size=number_samples)\n",
    "\n",
    "    # Best holders\n",
    "    best_distribution = -1\n",
    "    best_params = (0.0, 1.0)\n",
    "    best_sse = np.inf\n",
    "    best_cost = -1\n",
    "\n",
    "    norm_distribution = []\n",
    "    truncnorm_distribution = []\n",
    "\n",
    "    # Estimate distribution parameters from data\n",
    "    for distribution in dist_list:\n",
    "        # Try to fit the distribution\n",
    "        try:\n",
    "            # Ignore warnings from data that can't be fit\n",
    "            with warnings.catch_warnings():\n",
    "                warnings.filterwarnings('ignore')\n",
    "\n",
    "                # fit dist to data\n",
    "                params = distribution.fit(data)\n",
    "\n",
    "                # Separate parts of parameters\n",
    "                arg = params[:-2]\n",
    "                loc = params[-2]\n",
    "                scale = params[-1]\n",
    "\n",
    "                # Compute the histogram for the data\n",
    "                y, x = np.histogram(data, bins=100, density=True)\n",
    "                x = (x + np.roll(x, -1))[:-1] / 2.0\n",
    "\n",
    "                # Calculate fitted PDF and error with fit in distribution\n",
    "                pdf = distribution.pdf(x, loc=loc, scale=scale, *arg)\n",
    "                sse = np.sum(np.power(y - pdf, 2.0))\n",
    "\n",
    "                if distribution.name == \"norm\" or distribution.name == \"truncnorm\":\n",
    "                    arg = params[:-2]\n",
    "                    cdf = lambda val: distribution.cdf(val, loc=params[-2], scale=params[-1], *arg)\n",
    "                    cost = compute_cost(cdf)\n",
    "                    \n",
    "                if distribution.name == \"norm\":\n",
    "                    norm_distribution = [sse, params, cost]\n",
    "\n",
    "                if distribution.name == \"truncnorm\":\n",
    "                    truncnorm_distribution = [sse, params, cost]\n",
    "\n",
    "                # identify if this distribution is better\n",
    "                if best_sse > sse > 0:\n",
    "                    best_distribution = distribution\n",
    "                    best_params = params\n",
    "                    best_sse = sse\n",
    "                    \n",
    "                    arg = params[:-2]\n",
    "                    cdf = lambda val: distribution.cdf(val, loc=params[-2], scale=params[-1], *arg)\n",
    "                    best_cost = compute_cost(cdf)\n",
    "\n",
    "        except Exception:\n",
    "            pass\n",
    "\n",
    "    #print(\"%s \\t %f \\t %f \\t %s\" %(best_distribution.name, best_sse, best_cost, best_params))\n",
    "    #print(\"Norm \\t %f \\t %f \\t %s\" %(norm_distribution[0], norm_distribution[2], norm_distribution[1]))\n",
    "    #print(\"TruncNorm \\t %f \\t %f \\t %s\" %(truncnorm_distribution[0], truncnorm_distribution[2], truncnorm_distribution[1]))\n",
    "    #print(\"-----------------\")\n",
    "    if np.abs(best_cost - norm_distribution[2]) < np.abs(best_fit[0] - best_fit[4][2]) and best_distribution.name != \"norm\":\n",
    "        best_fit = [best_cost, best_sse, best_distribution, best_params, norm_distribution]\n",
    "    if np.abs(best_cost - norm_distribution[2]) > np.abs(worse_fit[0] - worse_fit[4][2]):\n",
    "        worse_fit = [best_cost, best_sse, best_distribution, best_params, norm_distribution]"
   ]
  },
  {
   "cell_type": "markdown",
   "metadata": {},
   "source": [
    "# Plot data\n",
    "### worse and best fit compared to the norm fit\n",
    "* the best fit and \n",
    "* the norm distributions"
   ]
  },
  {
   "cell_type": "code",
   "execution_count": 7,
   "metadata": {},
   "outputs": [
    {
     "name": "stdout",
     "output_type": "stream",
     "text": [
      "Best fit cost 11.946442 \n",
      "Norm cost 11.946449 (diff -0.000007)\n"
     ]
    },
    {
     "data": {
      "image/png": "[encoded data removed]",
      "text/plain": [
       "<Figure size 432x288 with 1 Axes>"
      ]
     },
     "metadata": {
      "needs_background": "light"
     },
     "output_type": "display_data"
    }
   ],
   "source": [
    "# Best fit\n",
    "\n",
    "print(\"Best fit cost %f \\nNorm cost %f (diff %f)\" %(best_fit[0], best_fit[4][2], best_fit[0]-best_fit[4][2]))\n",
    "fig, ax = plt.subplots(1, 1)\n",
    "# plot the best fit line\n",
    "best_distribution = best_fit[2]\n",
    "best_params = best_fit[3]\n",
    "ax.plot(x, best_distribution.pdf(x, loc=best_params[-2], scale=best_params[-1], *best_params[:-2]),\n",
    "        'k--', lw=1, alpha=1.0, label='%s fit' %(best_distribution.name))\n",
    "# plot the normal line\n",
    "ax.plot(x, st.norm.pdf(x, *best_fit[4][1]),\n",
    "        'r-', lw=3, alpha=0.4, label='norm fit')\n",
    "ax.hist(data, bins=100, density=True, histtype='stepfilled', alpha=0.3)\n",
    "ax.legend(shadow=True)\n",
    "plt.grid(True)\n",
    "\n",
    "plt.show()"
   ]
  },
  {
   "cell_type": "code",
   "execution_count": 13,
   "metadata": {},
   "outputs": [
    {
     "name": "stdout",
     "output_type": "stream",
     "text": [
      "Worse fit cost 858.043697 \n",
      "Norm cost 11.942383 (diff 846.101313)\n",
      "[0.04, 0.08, 0.12, 0.16, 0.2, 0.24, 0.28, 0.32, 0.36, 0.4, 0.44, 0.48, 0.52, 0.56, 0.6, 0.64, 0.68, 0.72, 0.76, 0.8, 0.84, 0.88, 0.92, 0.96, 1.0, 1.04, 1.08, 1.12, 1.16, 1.2, 1.24, 1.28, 1.32, 1.36, 1.4000000000000001, 1.44, 1.48, 1.52, 1.56, 1.6, 1.6400000000000001, 1.68, 1.72, 1.76, 1.8, 1.84, 1.8800000000000001, 1.92, 1.96, 2.0, 2.04, 2.08, 2.12, 2.16, 2.2, 2.24, 2.2800000000000002, 2.32, 2.36, 2.4, 2.44, 2.48, 2.52, 2.56, 2.6, 2.64, 2.68, 2.72, 2.7600000000000002, 2.8000000000000003, 2.84, 2.88, 2.92, 2.96, 3.0, 3.04, 3.08, 3.12, 3.16, 3.2, 3.24, 3.2800000000000002, 3.3200000000000003, 3.36, 3.4, 3.44, 3.48, 3.52, 3.56, 3.6, 3.64, 3.68, 3.72, 3.7600000000000002, 3.8000000000000003, 3.84, 3.88, 3.92, 3.96, 4.0, 4.04, 4.08, 4.12, 4.16, 4.2, 4.24, 4.28, 4.32, 4.36, 4.4, 4.44, 4.48, 4.5200000000000005, 4.5600000000000005, 4.6000000000000005, 4.64, 4.68, 4.72, 4.76, 4.8, 4.84, 4.88, 4.92, 4.96, 5.0, 5.04, 5.08, 5.12, 5.16, 5.2, 5.24, 5.28, 5.32, 5.36, 5.4, 5.44, 5.48, 5.5200000000000005, 5.5600000000000005, 5.6000000000000005, 5.64, 5.68, 5.72, 5.76, 5.8, 5.84, 5.88, 5.92, 5.96, 6.0, 6.04, 6.08, 6.12, 6.16, 6.2, 6.24, 6.28, 6.32, 6.36, 6.4, 6.44, 6.48, 6.5200000000000005, 6.5600000000000005, 6.6000000000000005, 6.640000000000001, 6.68, 6.72, 6.76, 6.8, 6.84, 6.88, 6.92, 6.96, 7.0, 7.04, 7.08, 7.12, 7.16, 7.2, 7.24, 7.28, 7.32, 7.36, 7.4, 7.44, 7.48, 7.5200000000000005, 7.5600000000000005, 7.6000000000000005, 7.640000000000001, 7.68, 7.72, 7.76, 7.8, 7.84, 7.88, 7.92, 7.96, 8.0, 8.040000000000001, 8.08, 8.120000000000001, 8.16, 8.2, 8.24, 8.28, 8.32, 8.36, 8.4, 8.44, 8.48, 8.52, 8.56, 8.6, 8.64, 8.68, 8.72, 8.76, 8.8, 8.84, 8.88, 8.92, 8.96, 9.0, 9.040000000000001, 9.08, 9.120000000000001, 9.16, 9.200000000000001, 9.24, 9.28, 9.32, 9.36, 9.4, 9.44, 9.48, 9.52, 9.56, 9.6, 9.64, 9.68, 9.72, 9.76, 9.8, 9.84, 9.88, 9.92, 9.96, 10.0, 10.040000000000001, 10.08, 10.120000000000001, 10.16, 10.200000000000001, 10.24, 10.28, 10.32, 10.36, 10.4, 10.44, 10.48, 10.52, 10.56, 10.6, 10.64, 10.68, 10.72, 10.76, 10.8, 10.84, 10.88, 10.92, 10.96, 11.0, 11.040000000000001, 11.08, 11.120000000000001, 11.16, 11.200000000000001, 11.24, 11.28, 11.32, 11.36, 11.4, 11.44, 11.48, 11.52, 11.56, 11.6, 11.64, 11.68, 11.72, 11.76, 11.8, 11.84, 11.88, 11.92, 11.96, 12.0, 12.040000000000001, 12.08, 12.120000000000001, 12.16, 12.200000000000001, 12.24, 12.280000000000001, 12.32, 12.36, 12.4, 12.44, 12.48, 12.52, 12.56, 12.6, 12.64, 12.68, 12.72, 12.76, 12.8, 12.84, 12.88, 12.92, 12.96, 13.0, 13.040000000000001, 13.08, 13.120000000000001, 13.16, 13.200000000000001, 13.24, 13.280000000000001, 13.32, 13.36, 13.4, 13.44, 13.48, 13.52, 13.56, 13.6, 13.64, 13.68, 13.72, 13.76, 13.8, 13.84, 13.88, 13.92, 13.96, 14.0, 14.040000000000001, 14.08, 14.120000000000001, 14.16, 14.200000000000001, 14.24, 14.280000000000001, 14.32, 14.36, 14.4, 14.44, 14.48, 14.52, 14.56, 14.6, 14.64, 14.68, 14.72, 14.76, 14.8, 14.84, 14.88, 14.92, 14.96, 15.0, 15.040000000000001, 15.08, 15.120000000000001, 15.16, 15.200000000000001, 15.24, 15.280000000000001, 15.32, 15.36, 15.4, 15.44, 15.48, 15.52, 15.56, 15.6, 15.64, 15.68, 15.72, 15.76, 15.8, 15.84, 15.88, 15.92, 15.96, 16.0, 16.04, 16.080000000000002, 16.12, 16.16, 16.2, 16.240000000000002, 16.28, 16.32, 16.36, 16.4, 16.44, 16.48, 16.52, 16.56, 16.6, 16.64, 16.68, 16.72, 16.76, 16.8, 16.84, 16.88, 16.92, 16.96, 17.0, 17.04, 17.080000000000002, 17.12, 17.16, 17.2, 17.240000000000002, 17.28, 17.32, 17.36, 17.400000000000002, 17.44, 17.48, 17.52, 17.56, 17.6, 17.64, 17.68, 17.72, 17.76, 17.8, 17.84, 17.88, 17.92, 17.96, 18.0, 18.04, 18.080000000000002, 18.12, 18.16, 18.2, 18.240000000000002, 18.28, 18.32, 18.36, 18.400000000000002, 18.44, 18.48, 18.52, 18.56, 18.6, 18.64, 18.68, 18.72, 18.76, 18.8, 18.84, 18.88, 18.92, 18.96, 19.0, 19.04, 19.080000000000002, 19.12, 19.16, 19.2, 19.240000000000002, 19.28, 19.32, 19.36, 19.400000000000002, 19.44, 19.48, 19.52, 19.56, 19.6, 19.64, 19.68, 19.72, 19.76, 19.8, 19.84, 19.88, 19.92, 20.0]\n",
      "858.0436969692219\n",
      "[10.92, 13.6, 15.72, 17.52, 19.12, 19.96, 20.0]\n",
      "11.942383497570145\n"
     ]
    },
    {
     "data": {
      "image/png": "[encoded data removed]",
      "text/plain": [
       "<Figure size 432x288 with 1 Axes>"
      ]
     },
     "metadata": {
      "needs_background": "light"
     },
     "output_type": "display_data"
    }
   ],
   "source": [
    "# Worse fit\n",
    "\n",
    "print(\"Worse fit cost %f \\nNorm cost %f (diff %f)\" %(worse_fit[0], worse_fit[4][2], worse_fit[0]-worse_fit[4][2]))\n",
    "worse_distribution = worse_fit[2]\n",
    "worse_params = worse_fit[3]\n",
    "\n",
    "arg = worse_params[:-2]\n",
    "cdf = lambda val: worse_distribution.cdf(val, loc=worse_params[-2], scale=worse_params[-1], *arg)\n",
    "worse_cost = compute_cost(cdf, print_sequence=True)\n",
    "print(worse_cost)\n",
    "\n",
    "arg = worse_fit[4][1][:-2]\n",
    "cdf = lambda val: st.norm.cdf(val, loc=worse_fit[4][1][-2], scale=worse_fit[4][1][-1], *arg)\n",
    "worse_cost = compute_cost(cdf, print_sequence=True)\n",
    "print(worse_cost)\n",
    "\n",
    "fig, ax = plt.subplots(1, 1)\n",
    "# plot the best fit line\n",
    "ax.plot(x, worse_distribution.pdf(x, loc=worse_params[-2], scale=worse_params[-1], *worse_params[:-2]),\n",
    "        'k--', lw=1, alpha=1.0, label='%s fit' %(worse_distribution.name))\n",
    "# plot the normal line\n",
    "ax.plot(x, st.norm.pdf(x, *worse_fit[4][1]),\n",
    "        'r-', lw=3, alpha=0.4, label='norm fit')\n",
    "ax.hist(data, bins=100, density=True, histtype='stepfilled', alpha=0.3)\n",
    "ax.legend(shadow=True)\n",
    "plt.grid(True)\n",
    "\n",
    "plt.show()"
   ]
  },
  {
   "cell_type": "code",
   "execution_count": null,
   "metadata": {},
   "outputs": [],
   "source": []
  }
 ],
 "metadata": {
  "kernelspec": {
   "display_name": "Python 3",
   "language": "python",
   "name": "python3"
  },
  "language_info": {
   "codemirror_mode": {
    "name": "ipython",
    "version": 3
   },
   "file_extension": ".py",
   "mimetype": "text/x-python",
   "name": "python",
   "nbconvert_exporter": "python",
   "pygments_lexer": "ipython3",
   "version": "3.7.3"
  }
 },
 "nbformat": 4,
 "nbformat_minor": 4
}
