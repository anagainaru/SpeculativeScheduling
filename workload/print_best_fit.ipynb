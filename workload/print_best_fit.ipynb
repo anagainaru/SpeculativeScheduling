{
 "cells": [
  {
   "cell_type": "code",
   "execution_count": 7,
   "metadata": {},
   "outputs": [],
   "source": [
    "%matplotlib inline\n",
    "\n",
    "import matplotlib.pyplot as plt\n",
    "import numpy as np\n",
    "import pandas as pd\n",
    "import seaborn as sns\n",
    "import glob\n",
    "\n",
    "from matplotlib.ticker import MaxNLocator"
   ]
  },
  {
   "cell_type": "code",
   "execution_count": 8,
   "metadata": {},
   "outputs": [],
   "source": [
    "df_all = pd.DataFrame()\n",
    "for path in glob.glob(\"ACCRE/*.csv\"):\n",
    "    dataset = path.split(\"/\")[1]\n",
    "    dataset = dataset[:-4]\n",
    "    df_temp = pd.read_csv(\"ACCRE/\"+dataset+\".csv\") \n",
    "    df_temp[\"Application\"] = [dataset for i in range(len(df_temp))]\n",
    "    df_all = df_all.append(df_temp)"
   ]
  },
  {
   "cell_type": "code",
   "execution_count": 9,
   "metadata": {},
   "outputs": [
    {
     "data": {
      "text/html": [
       "<div>\n",
       "<style scoped>\n",
       "    .dataframe tbody tr th:only-of-type {\n",
       "        vertical-align: middle;\n",
       "    }\n",
       "\n",
       "    .dataframe tbody tr th {\n",
       "        vertical-align: top;\n",
       "    }\n",
       "\n",
       "    .dataframe thead th {\n",
       "        text-align: right;\n",
       "    }\n",
       "</style>\n",
       "<table border=\"1\" class=\"dataframe\">\n",
       "  <thead>\n",
       "    <tr style=\"text-align: right;\">\n",
       "      <th></th>\n",
       "      <th>Application</th>\n",
       "      <th>Bins</th>\n",
       "      <th>Cost</th>\n",
       "      <th>Function</th>\n",
       "      <th>Parameters</th>\n",
       "      <th>Trainset</th>\n",
       "      <th>Unnamed: 0</th>\n",
       "    </tr>\n",
       "  </thead>\n",
       "  <tbody>\n",
       "    <tr>\n",
       "      <th>0</th>\n",
       "      <td>fMRIQA_v3</td>\n",
       "      <td>NaN</td>\n",
       "      <td>675.389586</td>\n",
       "      <td>Discreet</td>\n",
       "      <td>NaN</td>\n",
       "      <td>NaN</td>\n",
       "      <td>0</td>\n",
       "    </tr>\n",
       "    <tr>\n",
       "      <th>1</th>\n",
       "      <td>fMRIQA_v3</td>\n",
       "      <td>NaN</td>\n",
       "      <td>521.150916</td>\n",
       "      <td>Optimal</td>\n",
       "      <td>NaN</td>\n",
       "      <td>NaN</td>\n",
       "      <td>1</td>\n",
       "    </tr>\n",
       "    <tr>\n",
       "      <th>2</th>\n",
       "      <td>fMRIQA_v3</td>\n",
       "      <td>NaN</td>\n",
       "      <td>540.892749</td>\n",
       "      <td>Polynomial</td>\n",
       "      <td>1.0</td>\n",
       "      <td>NaN</td>\n",
       "      <td>2</td>\n",
       "    </tr>\n",
       "    <tr>\n",
       "      <th>3</th>\n",
       "      <td>fMRIQA_v3</td>\n",
       "      <td>NaN</td>\n",
       "      <td>556.786695</td>\n",
       "      <td>Polynomial</td>\n",
       "      <td>2.0</td>\n",
       "      <td>NaN</td>\n",
       "      <td>3</td>\n",
       "    </tr>\n",
       "    <tr>\n",
       "      <th>4</th>\n",
       "      <td>fMRIQA_v3</td>\n",
       "      <td>NaN</td>\n",
       "      <td>680.776979</td>\n",
       "      <td>Polynomial</td>\n",
       "      <td>3.0</td>\n",
       "      <td>NaN</td>\n",
       "      <td>4</td>\n",
       "    </tr>\n",
       "  </tbody>\n",
       "</table>\n",
       "</div>"
      ],
      "text/plain": [
       "  Application  Bins        Cost    Function  Parameters  Trainset  Unnamed: 0\n",
       "0   fMRIQA_v3   NaN  675.389586    Discreet         NaN       NaN           0\n",
       "1   fMRIQA_v3   NaN  521.150916     Optimal         NaN       NaN           1\n",
       "2   fMRIQA_v3   NaN  540.892749  Polynomial         1.0       NaN           2\n",
       "3   fMRIQA_v3   NaN  556.786695  Polynomial         2.0       NaN           3\n",
       "4   fMRIQA_v3   NaN  680.776979  Polynomial         3.0       NaN           4"
      ]
     },
     "execution_count": 9,
     "metadata": {},
     "output_type": "execute_result"
    }
   ],
   "source": [
    "df_all.head()"
   ]
  },
  {
   "cell_type": "code",
   "execution_count": 10,
   "metadata": {},
   "outputs": [
    {
     "name": "stdout",
     "output_type": "stream",
     "text": [
      "76\n"
     ]
    },
    {
     "data": {
      "text/plain": [
       "array(['fMRIQA_v3', 'AbOrganSeg_Localized_v1', 'AbOrganSeg_Whole_v1',\n",
       "       'Bedpost_v1', 'Cerebellum_Segmentation_v1', 'DOT_v1',\n",
       "       'dtiQA_Amico_Multi_v1', 'dtiQA_v2', 'dtiQA_v3', 'dtiQA_v4',\n",
       "       'fMRI_Connectivity_PreProcess_Scan_v1_global_scrub',\n",
       "       'fMRI_Connectivity_PreProcess_Scan_v1',\n",
       "       'fMRI_Connectivity_PreProcess_Scan_v2_alff',\n",
       "       'fMRI_Connectivity_PreProcess_Scan_v2',\n",
       "       'fMRI_Connectivity_Process_Scan_v1_global_scrub',\n",
       "       'fMRI_Connectivity_Process_Scan_v1',\n",
       "       'fMRI_Connectivity_Process_Scan_v2',\n",
       "       'fMRI_Connectivity_Process_Scan_v3_ma132',\n",
       "       'fMRI_Connectivity_Process_Scan_v3', 'fMRIQA', 'fMRIQA_v2',\n",
       "       'FSL_First', 'Generic_FMRI_v1', 'MaCRUISE_v0', 'MaCRUISE_v1',\n",
       "       'MaCRUISE_v2', 'MAGM_Normalize_v1', 'MGC_Multi_Atlas_Seg_v1',\n",
       "       'Multi_Atlas', 'Multi_Atlas_v2', 'NDW_VBM_v1',\n",
       "       'ON_CT_segmentation_v2', 'ON_CT_segmentation_v3',\n",
       "       'ON_MR_segmentation_v2', 'ON_MR_segmentation_vDEV1',\n",
       "       'ON_MR_sheath_segmentation', 'ON_MR_sheath_segmentation_v1',\n",
       "       'ON_MR_sheath_segmentation_v2', 'ON_segmentation', 'pasmri_v1',\n",
       "       'Probtrackx2_RAS_v1_NC', 'Probtrackx2_RAS_v1_RAS',\n",
       "       'Probtrackx2_RAS_v2_RAS_sevenrois', 'Probtrackx2_v1',\n",
       "       'Probtrackx2_v2_sevenrois', 'Qball_v1', 'SCFusion_v1', 'SD_v1',\n",
       "       'Seeleyfmripreproc_v1', 'SpleenSeg_Localized_v1',\n",
       "       'SpleenSeg_Localized_v2', 'Temporal_Lobe_v2_2_0',\n",
       "       'Temporal_Lobe_v2', 'Temporal_Lobe_v3', 'VBMQA', 'fMRIQA_v3_bins',\n",
       "       'fMRIQA_v3_trainset', 'ON_CT_segmentation_v3_trainset',\n",
       "       'AbOrganSeg_Localized_v1_trainset', 'AbOrganSeg_Whole_v1_trainset',\n",
       "       'Bedpost_v1_trainset', 'Cerebellum_Segmentation_v1_trainset',\n",
       "       'DOT_v1_trainset', 'dtiQA_Amico_Multi_v1_trainset',\n",
       "       'dtiQA_v2_trainset', 'dtiQA_v3_trainset', 'dtiQA_v4_trainset',\n",
       "       'fMRI_Connectivity_PreProcess_Scan_v1_global_scrub_trainset',\n",
       "       'fMRI_Connectivity_PreProcess_Scan_v1_trainset',\n",
       "       'fMRI_Connectivity_PreProcess_Scan_v2_alff_trainset',\n",
       "       'fMRI_Connectivity_PreProcess_Scan_v2_trainset',\n",
       "       'fMRI_Connectivity_Process_Scan_v1_global_scrub_trainset',\n",
       "       'fMRI_Connectivity_Process_Scan_v1_trainset',\n",
       "       'fMRI_Connectivity_Process_Scan_v2_trainset',\n",
       "       'fMRI_Connectivity_Process_Scan_v3_ma132_trainset',\n",
       "       'fMRI_Connectivity_Process_Scan_v3_trainset'], dtype=object)"
      ]
     },
     "execution_count": 10,
     "metadata": {},
     "output_type": "execute_result"
    }
   ],
   "source": [
    "apps = df_all[\"Application\"].unique()\n",
    "print(len(apps))\n",
    "apps"
   ]
  },
  {
   "cell_type": "code",
   "execution_count": 11,
   "metadata": {},
   "outputs": [
    {
     "data": {
      "text/html": [
       "<div>\n",
       "<style scoped>\n",
       "    .dataframe tbody tr th:only-of-type {\n",
       "        vertical-align: middle;\n",
       "    }\n",
       "\n",
       "    .dataframe tbody tr th {\n",
       "        vertical-align: top;\n",
       "    }\n",
       "\n",
       "    .dataframe thead th {\n",
       "        text-align: right;\n",
       "    }\n",
       "</style>\n",
       "<table border=\"1\" class=\"dataframe\">\n",
       "  <thead>\n",
       "    <tr style=\"text-align: right;\">\n",
       "      <th></th>\n",
       "      <th>Application</th>\n",
       "      <th>Function</th>\n",
       "      <th>Cost</th>\n",
       "    </tr>\n",
       "  </thead>\n",
       "  <tbody>\n",
       "    <tr>\n",
       "      <th>0</th>\n",
       "      <td>fMRIQA_v3</td>\n",
       "      <td>Discreet</td>\n",
       "      <td>0.295958</td>\n",
       "    </tr>\n",
       "    <tr>\n",
       "      <th>1</th>\n",
       "      <td>fMRIQA_v3</td>\n",
       "      <td>Continuous</td>\n",
       "      <td>0.037881</td>\n",
       "    </tr>\n",
       "    <tr>\n",
       "      <th>2</th>\n",
       "      <td>AbOrganSeg_Localized_v1</td>\n",
       "      <td>Discreet</td>\n",
       "      <td>0.034680</td>\n",
       "    </tr>\n",
       "    <tr>\n",
       "      <th>3</th>\n",
       "      <td>AbOrganSeg_Localized_v1</td>\n",
       "      <td>Continuous</td>\n",
       "      <td>0.004326</td>\n",
       "    </tr>\n",
       "    <tr>\n",
       "      <th>4</th>\n",
       "      <td>AbOrganSeg_Whole_v1</td>\n",
       "      <td>Discreet</td>\n",
       "      <td>0.106982</td>\n",
       "    </tr>\n",
       "  </tbody>\n",
       "</table>\n",
       "</div>"
      ],
      "text/plain": [
       "               Application    Function      Cost\n",
       "0                fMRIQA_v3    Discreet  0.295958\n",
       "1                fMRIQA_v3  Continuous  0.037881\n",
       "2  AbOrganSeg_Localized_v1    Discreet  0.034680\n",
       "3  AbOrganSeg_Localized_v1  Continuous  0.004326\n",
       "4      AbOrganSeg_Whole_v1    Discreet  0.106982"
      ]
     },
     "execution_count": 11,
     "metadata": {},
     "output_type": "execute_result"
    }
   ],
   "source": [
    "df_best = pd.DataFrame(columns=[\"Application\", \"Function\", \"Cost\"])\n",
    "for dataset in apps:\n",
    "    cost_discreet = df_all[(df_all.Function==\"Discreet\") &\n",
    "                           (df_all.Application == dataset)][\"Cost\"].values[0]\n",
    "    cost_optimal = df_all[(df_all.Function==\"Optimal\")\n",
    "                          & (df_all.Application == dataset)][\"Cost\"].values[0]\n",
    "    df_best.loc[len(df_best)] = [dataset, \"Discreet\", (cost_discreet-cost_optimal)/cost_optimal]\n",
    "\n",
    "    cost = min(df_all[(df_all.Function!=\"Optimal\") & (df_all.Application == dataset) &\n",
    "                      (df_all.Function!=\"Discreet\")][\"Cost\"].values)\n",
    "    df_best.loc[len(df_best)] = [dataset, \"Continuous\", (cost-cost_optimal)/cost_optimal]\n",
    "\n",
    "df_best.head()"
   ]
  },
  {
   "cell_type": "code",
   "execution_count": 13,
   "metadata": {},
   "outputs": [
    {
     "data": {
      "image/png": "[encoded data removed]",
      "text/plain": [
       "<Figure size 864x432 with 1 Axes>"
      ]
     },
     "metadata": {
      "needs_background": "light"
     },
     "output_type": "display_data"
    }
   ],
   "source": [
    "plt.figure(figsize=(12,6))\n",
    "ax = sns.barplot(x=\"Application\", y=\"Cost\", hue=\"Function\", data=df_best)\n",
    "ax.set_xticks([])\n",
    "ax.set(yscale=\"log\")\n",
    "plt.savefig(\"figures_ACCRE/relative_cost.png\")"
   ]
  },
  {
   "cell_type": "code",
   "execution_count": null,
   "metadata": {},
   "outputs": [],
   "source": [
    "dataset = apps[9]\n",
    "df = df_all[df_all.Application == dataset]\n",
    "data = pd.Series(np.loadtxt(\"ACCRE/\"+dataset+\".out\", delimiter=' '))\n",
    "print(dataset, len(data))"
   ]
  },
  {
   "cell_type": "code",
   "execution_count": null,
   "metadata": {},
   "outputs": [],
   "source": [
    "df"
   ]
  },
  {
   "cell_type": "code",
   "execution_count": null,
   "metadata": {},
   "outputs": [],
   "source": [
    "# plot the cost for different polynomial orders\n",
    "plt.figure(figsize=(12,8))\n",
    "ax = sns.lineplot(x=\"Parameters\", y=\"Cost\",\n",
    "                  data=df[df.Function==\"Polynomial\"])\n",
    "cost_discreet = df[df.Function==\"Discreet\"][\"Cost\"].values[0]\n",
    "cost_optimal = df[df.Function==\"Optimal\"][\"Cost\"].values[0]\n",
    "ax.axhline(cost_discreet, ls='--')\n",
    "ax.axhline(cost_optimal, ls='--')\n",
    "ax.set_xlabel('Degree of the polynomial')\n",
    "ax.set_ylabel('Cost')\n",
    "plt.savefig(\"figure_ACCRE/polynomial/%s_poly.png\" %(dataset))"
   ]
  },
  {
   "cell_type": "code",
   "execution_count": null,
   "metadata": {},
   "outputs": [],
   "source": [
    "plt.figure(figsize=(12,8))\n",
    "ax = data.plot(kind='hist', bins=50, normed=True, alpha=0.5)\n",
    "#plt.plot(x, func(x, *popt), 'g--')\n",
    "ax.set_xlabel('Walltime')\n",
    "ax.set_ylabel('Frequency')\n",
    "\n",
    "plt.figure(figsize=(12,8))\n",
    "ax = data[:int(len(data)/100)].plot(kind='hist', bins=50, normed=True, alpha=0.5)\n",
    "#plt.plot(x, func(x, *popt), 'g--')\n",
    "ax.set_xlabel('Walltime')\n",
    "ax.set_ylabel('Frequency')"
   ]
  },
  {
   "cell_type": "code",
   "execution_count": null,
   "metadata": {},
   "outputs": [],
   "source": [
    "df_cost = df.groupby('Function').min()\n",
    "df_cost[\"Function\"] = df_cost.index\n",
    "df_cost"
   ]
  },
  {
   "cell_type": "code",
   "execution_count": null,
   "metadata": {},
   "outputs": [],
   "source": [
    "# Keep the best fit for bot Function and Distribution fitting\n",
    "df_best = pd.DataFrame(columns=[\"Function\", \"Cost\"])\n",
    "df_best.loc[len(df_best)] = [\"Discreet\", df_cost[df_cost.Function==\"Discreet\"][\"Cost\"].values[0]]\n",
    "df_best.loc[len(df_best)] = [\"Optimal\", df_cost[df_cost.Function==\"Optimal\"][\"Cost\"].values[0]]\n",
    "\n",
    "# Best distribution fit\n",
    "name = df_cost[(df_cost.Function!=\"Optimal\") & (df_cost.Function!=\"Discreet\") &\n",
    "               (df_cost.Function!=\"Exponential\") & (df_cost.Function!=\"Polynomial\")][\"Function\"].values[0]\n",
    "df_best.loc[len(df_best)] = [\"Distribution (%s)\" %(name), df_cost[df_cost.Function==\"Optimal\"][\"Cost\"].values[0]]\n",
    "\n",
    "# Best funtion fit\n",
    "cost = df_cost[df_cost.Function==\"Exponential\"][\"Cost\"].values[0]\n",
    "name = \"Function (exponential)\"\n",
    "if cost > df_cost[df_cost.Function==\"Polynomial\"][\"Cost\"].values[0]:\n",
    "    cost = df_cost[df_cost.Function==\"Polynomial\"][\"Cost\"].values[0]\n",
    "    order = df_cost[df_cost.Function==\"Polynomial\"][\"Parameters\"].values[0]\n",
    "    name = \"Function (polynomial %d)\" %(int(order))\n",
    "\n",
    "df_best.loc[len(df_best)] = [name, cost]\n",
    "df_best"
   ]
  },
  {
   "cell_type": "code",
   "execution_count": null,
   "metadata": {},
   "outputs": [],
   "source": [
    "plt.figure(figsize=(12,6))\n",
    "ax = sns.barplot(x=\"Function\", y=\"Cost\", data=df_best[df_best.Function != \"Optimal\"],\n",
    "                 palette=\"Blues_d\")\n",
    "ax.axhline(cost_optimal, ls='--', color=\"black\")"
   ]
  },
  {
   "cell_type": "code",
   "execution_count": null,
   "metadata": {},
   "outputs": [],
   "source": []
  }
 ],
 "metadata": {
  "kernelspec": {
   "display_name": "Python 3",
   "language": "python",
   "name": "python3"
  },
  "language_info": {
   "codemirror_mode": {
    "name": "ipython",
    "version": 3
   },
   "file_extension": ".py",
   "mimetype": "text/x-python",
   "name": "python",
   "nbconvert_exporter": "python",
   "pygments_lexer": "ipython3",
   "version": "3.7.1"
  }
 },
 "nbformat": 4,
 "nbformat_minor": 2
}
