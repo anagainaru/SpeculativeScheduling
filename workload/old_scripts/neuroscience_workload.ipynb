{
 "cells": [
  {
   "cell_type": "code",
   "execution_count": 40,
   "metadata": {},
   "outputs": [],
   "source": [
    "%matplotlib inline\n",
    "\n",
    "import matplotlib.pyplot as plt\n",
    "import numpy as np\n",
    "import pandas as pd\n",
    "import seaborn as sns\n",
    "\n",
    "import statsmodels as sm\n",
    "import warnings\n",
    "import scipy.integrate as integrate\n",
    "from scipy.stats import truncnorm\n",
    "\n",
    "import OptimalSequence"
   ]
  },
  {
   "cell_type": "code",
   "execution_count": 41,
   "metadata": {},
   "outputs": [],
   "source": [
    "plt.rcParams['figure.figsize'] = (16.0, 12.0)\n",
    "plt.style.use('ggplot')\n",
    "\n",
    "bins=20"
   ]
  },
  {
   "cell_type": "markdown",
   "metadata": {},
   "source": [
    "## 1. Read the workload"
   ]
  },
  {
   "cell_type": "code",
   "execution_count": 42,
   "metadata": {},
   "outputs": [],
   "source": [
    "# Load data from statsmodels datasets\n",
    "#all_data = pd.Series(sm.datasets.elnino.load_pandas().data.set_index('YEAR').values.ravel())\n",
    "up_bound = 6\n",
    "low_bound = -4\n",
    "mu = 8\n",
    "sigma = 2\n",
    "\n",
    "all_data = pd.Series(truncnorm.rvs(low_bound, up_bound, loc=mu, scale=sigma, size=1000))"
   ]
  },
  {
   "cell_type": "code",
   "execution_count": 43,
   "metadata": {},
   "outputs": [],
   "source": [
    "test_cnt = int(len(all_data)/10)\n",
    "testing = all_data[test_cnt:]\n",
    "data =  all_data[:test_cnt]\n",
    "data = data.append(pd.Series(max(all_data)))"
   ]
  },
  {
   "cell_type": "code",
   "execution_count": 44,
   "metadata": {},
   "outputs": [
    {
     "name": "stdout",
     "output_type": "stream",
     "text": [
      "        min max len\n",
      "testing 2.260958082759762 14.589850685176451 900\n",
      "training 2.2089671960011277 14.589850685176451 101\n",
      "all data 2.2089671960011277 14.589850685176451 1000\n"
     ]
    }
   ],
   "source": [
    "print(r\"        min max len\")\n",
    "print(\"testing\", min(testing), max(testing), len(testing))\n",
    "print(\"training\", min(data), max(data), len(data))\n",
    "print(\"all data\", min(all_data), max(all_data), len(all_data))\n",
    "y, x = np.histogram(data, bins=bins, density=True)\n",
    "x = (x + np.roll(x, -1))[:-1] / 2.0"
   ]
  },
  {
   "cell_type": "markdown",
   "metadata": {},
   "source": [
    "## 2. For a given fit compute the PDF and CDF"
   ]
  },
  {
   "cell_type": "code",
   "execution_count": 45,
   "metadata": {},
   "outputs": [],
   "source": [
    "def get_pdf(data, params, bins):\n",
    "    f = np.poly1d(params)\n",
    "    # compute the integral from xp[0] to xp[-1]\n",
    "    area = integrate.quad(f, data[0], data[-1], epsrel=1.49e-05)\n",
    "    if np.isclose(area[0], 1, rtol=1e-03):\n",
    "        return f\n",
    "    params = [i/area[0] for i in params]\n",
    "    return np.poly1d(params)"
   ]
  },
  {
   "cell_type": "code",
   "execution_count": 46,
   "metadata": {},
   "outputs": [],
   "source": [
    "def get_cdf(pdf, start, x):\n",
    "    return integrate.quad(pdf, start, x, epsrel=1.49e-05)[0]"
   ]
  },
  {
   "cell_type": "markdown",
   "metadata": {},
   "source": [
    "## 3. For a given fit compute the cost of the optimal sequence"
   ]
  },
  {
   "cell_type": "code",
   "execution_count": 47,
   "metadata": {},
   "outputs": [],
   "source": [
    "def compute_cost(cdf, walltimes):\n",
    "    handler = OptimalSequence.TOptimalSequence(min(walltimes), max(walltimes), cdf, )\n",
    "    sequence = handler.compute_request_sequence()\n",
    "    print(sequence)\n",
    "    cost = 0\n",
    "    for instance in walltimes:\n",
    "        # get the sum of all the values in the sequences <= current walltime\n",
    "        cost += sum([i for i in sequence if i < instance])\n",
    "        # add the first reservation that is >= current walltime\n",
    "        idx = 0\n",
    "        if len(sequence) > 1:\n",
    "            idx_list = [i for i in range(1,len(sequence)) if\n",
    "                        sequence[i-1] < instance and sequence[i] >= instance]\n",
    "            if len(idx_list) > 0:\n",
    "                idx = idx_list[0]\n",
    "        cost += sequence[idx]\n",
    "    cost = cost / len(walltimes)\n",
    "    return cost"
   ]
  },
  {
   "cell_type": "code",
   "execution_count": 48,
   "metadata": {},
   "outputs": [
    {
     "name": "stdout",
     "output_type": "stream",
     "text": [
      "Order 1 Sequence\n",
      "[11.754205386620612, 14.589850685176451]\n",
      "Order 2 Sequence\n",
      "[11.630916460596445, 12.124072164693112, 12.24736109071728, 12.370650016741447, 12.493938942765613, 12.617227868789781, 12.740516794813947, 12.863805720838114, 12.987094646862282, 13.110383572886448, 13.233672498910614, 13.356961424934783, 13.480250350958949, 13.603539276983115, 13.726828203007283, 13.85011712903145, 13.973406055055616, 14.096694981079784, 14.21998390710395, 14.343272833128117, 14.466561759152283, 14.589850685176451]\n",
      "Order 3 Sequence\n",
      "[11.01447183047561, 12.617227868789781, 12.740516794813947, 12.863805720838114, 12.987094646862282, 13.110383572886448, 13.233672498910614, 13.356961424934783, 13.480250350958949, 13.603539276983115, 13.726828203007283, 13.85011712903145, 13.973406055055616, 14.096694981079784, 14.21998390710395, 14.343272833128117, 14.466561759152283, 14.589850685176451]\n",
      "Order 4 Sequence\n",
      "[10.767893978427278, 12.124072164693112, 14.589850685176451]\n",
      "Order 5 Sequence\n",
      "[10.64460505240311, 14.589850685176451]\n",
      "Order 6 Sequence\n",
      "[10.521316126378943, 14.096694981079784, 14.21998390710395, 14.343272833128117, 14.466561759152283, 14.589850685176451]\n",
      "Order 7 Sequence\n",
      "[10.398027200354777, 14.589850685176451]\n",
      "Order 8 Sequence\n",
      "[10.521316126378943, 14.589850685176451]\n",
      "Order 9 Sequence\n",
      "[10.521316126378943, 14.589850685176451]\n",
      "Order 10 Sequence\n",
      "[10.64460505240311, 14.589850685176451]\n",
      "Order 11 Sequence\n",
      "[10.398027200354777, 13.110383572886448, 14.589850685176451]\n",
      "Order 12 Sequence\n",
      "[10.398027200354777, 12.24736109071728, 12.370650016741447, 12.493938942765613, 12.617227868789781, 12.740516794813947, 12.863805720838114, 12.987094646862282, 13.110383572886448, 13.233672498910614, 13.356961424934783, 13.480250350958949, 13.603539276983115, 13.726828203007283, 13.85011712903145, 13.973406055055616, 14.096694981079784, 14.21998390710395, 14.343272833128117, 14.466561759152283, 14.589850685176451]\n",
      "Order 13 Sequence\n",
      "[10.274738274330609, 10.767893978427278, 10.891182904451444, 11.01447183047561, 11.137760756499778, 11.261049682523945, 11.384338608548111, 11.50762753457228, 11.630916460596445, 11.754205386620612, 11.87749431264478, 12.000783238668946, 12.124072164693112, 12.24736109071728, 12.370650016741447, 12.493938942765613, 12.617227868789781, 12.740516794813947, 12.863805720838114, 12.987094646862282, 13.110383572886448, 13.233672498910614, 13.356961424934783, 13.480250350958949, 13.603539276983115, 13.726828203007283, 13.85011712903145, 13.973406055055616, 14.096694981079784, 14.21998390710395, 14.343272833128117, 14.466561759152283, 14.589850685176451]\n",
      "Order 14 Sequence\n",
      "[10.028160422282276, 10.151449348306443, 10.274738274330609, 10.398027200354777, 10.521316126378943, 10.64460505240311, 10.767893978427278, 10.891182904451444, 11.01447183047561, 11.137760756499778, 11.261049682523945, 11.384338608548111, 11.50762753457228, 11.630916460596445, 11.754205386620612, 11.87749431264478, 12.000783238668946, 12.124072164693112, 12.24736109071728, 12.370650016741447, 12.493938942765613, 12.617227868789781, 12.740516794813947, 12.863805720838114, 12.987094646862282, 13.110383572886448, 13.233672498910614, 13.356961424934783, 13.480250350958949, 13.603539276983115, 13.726828203007283, 13.85011712903145, 13.973406055055616, 14.096694981079784, 14.21998390710395, 14.343272833128117, 14.466561759152283, 14.589850685176451]\n",
      "Order 15 Sequence\n",
      "[10.274738274330609, 10.398027200354777, 10.521316126378943, 10.64460505240311, 10.767893978427278, 10.891182904451444, 11.01447183047561, 11.137760756499778, 11.261049682523945, 11.384338608548111, 11.50762753457228, 11.630916460596445, 11.754205386620612, 11.87749431264478, 12.000783238668946, 12.124072164693112, 12.24736109071728, 12.370650016741447, 12.493938942765613, 12.617227868789781, 12.740516794813947, 12.863805720838114, 12.987094646862282, 13.110383572886448, 13.233672498910614, 13.356961424934783, 13.480250350958949, 13.603539276983115, 13.726828203007283, 13.85011712903145, 13.973406055055616, 14.096694981079784, 14.21998390710395, 14.343272833128117, 14.466561759152283, 14.589850685176451]\n",
      "Order 16 Sequence\n"
     ]
    }
   ],
   "source": [
    "min_error = 1\n",
    "selected_order = 1\n",
    "df = pd.DataFrame(columns=[\"Polynomial_order\", \"Cost\", \"Error\"])\n",
    "for order in range(1,30):\n",
    "    with warnings.catch_warnings():\n",
    "        warnings.simplefilter(\"error\")\n",
    "        try:\n",
    "            z = np.polyfit(x, y, order)\n",
    "        except:\n",
    "            break\n",
    "        err = np.sum((np.polyval(z, x) - y)**2)\n",
    "\n",
    "        # save the best fitted polynomial\n",
    "        if err < min_error:\n",
    "            min_error = err\n",
    "            selected_order = order\n",
    "\n",
    "        # get the pdf and cdf functions\n",
    "        try:\n",
    "            pdf = get_pdf(x,z,bins)\n",
    "            cdf = lambda val: get_cdf(pdf, x[0], val)\n",
    "            print(\"Order\", order, \"Sequence\")\n",
    "            cost = compute_cost(cdf, testing)\n",
    "        except:\n",
    "            continue\n",
    "        df.loc[len(df)] = [order, cost, err]"
   ]
  },
  {
   "cell_type": "markdown",
   "metadata": {},
   "source": [
    "## 4. Get the cost using the sequence computed from the discreet data"
   ]
  },
  {
   "cell_type": "code",
   "execution_count": 49,
   "metadata": {},
   "outputs": [],
   "source": [
    "def discreet_cdf(x, histogram, histogram_counts):\n",
    "    # find the position in the histogram closest to x\n",
    "    cum_histogram = np.cumsum(histogram_counts)\n",
    "    min_dist = np.abs(x - histogram[0])\n",
    "    count = cum_histogram[0]\n",
    "    for bins in range(len(histogram)):\n",
    "        dist = np.abs(x - histogram[bins])\n",
    "        if dist < min_dist:\n",
    "            min_dist = dist\n",
    "            count = cum_histogram[bins]\n",
    "    return count"
   ]
  },
  {
   "cell_type": "code",
   "execution_count": 50,
   "metadata": {},
   "outputs": [
    {
     "name": "stdout",
     "output_type": "stream",
     "text": [
      "[9.658293644209774, 12.124072164693112, 13.973406055055616, 14.096694981079784, 14.21998390710395, 14.343272833128117, 14.466561759152283, 14.589850685176451]\n"
     ]
    },
    {
     "data": {
      "text/plain": [
       "12.030317009851288"
      ]
     },
     "execution_count": 50,
     "metadata": {},
     "output_type": "execute_result"
    }
   ],
   "source": [
    "yall = [i/sum(y) for i in y]\n",
    "cdf_just_training = lambda val: discreet_cdf(val, x, yall)\n",
    "cost_discreet = compute_cost(cdf_just_training, testing)\n",
    "cost_discreet"
   ]
  },
  {
   "cell_type": "code",
   "execution_count": 51,
   "metadata": {},
   "outputs": [
    {
     "name": "stdout",
     "output_type": "stream",
     "text": [
      "[9.658293644209774, 12.124072164693112, 13.973406055055616, 14.096694981079784, 14.21998390710395, 14.343272833128117, 14.466561759152283, 14.589850685176451]\n"
     ]
    },
    {
     "data": {
      "text/plain": [
       "12.030317009851288"
      ]
     },
     "execution_count": 51,
     "metadata": {},
     "output_type": "execute_result"
    }
   ],
   "source": [
    "yall, xall = np.histogram(all_data, bins=bins, density=True)\n",
    "xall = (xall + np.roll(xall, -1))[:-1] / 2.0\n",
    "cdf_all_data = lambda val: discreet_cdf(val, xall, yall)\n",
    "cost_discreet_all = compute_cost(cdf_all_data, testing)\n",
    "cost_discreet_all"
   ]
  },
  {
   "cell_type": "markdown",
   "metadata": {},
   "source": [
    "## 3 Plot the cost of the sequence generated by polynomial fits of different orders"
   ]
  },
  {
   "cell_type": "code",
   "execution_count": 52,
   "metadata": {},
   "outputs": [
    {
     "data": {
      "text/html": [
       "<div>\n",
       "<style scoped>\n",
       "    .dataframe tbody tr th:only-of-type {\n",
       "        vertical-align: middle;\n",
       "    }\n",
       "\n",
       "    .dataframe tbody tr th {\n",
       "        vertical-align: top;\n",
       "    }\n",
       "\n",
       "    .dataframe thead th {\n",
       "        text-align: right;\n",
       "    }\n",
       "</style>\n",
       "<table border=\"1\" class=\"dataframe\">\n",
       "  <thead>\n",
       "    <tr style=\"text-align: right;\">\n",
       "      <th></th>\n",
       "      <th>Polynomial_order</th>\n",
       "      <th>Cost</th>\n",
       "      <th>Error</th>\n",
       "    </tr>\n",
       "  </thead>\n",
       "  <tbody>\n",
       "    <tr>\n",
       "      <th>0</th>\n",
       "      <td>1.0</td>\n",
       "      <td>12.127057</td>\n",
       "      <td>0.112723</td>\n",
       "    </tr>\n",
       "    <tr>\n",
       "      <th>1</th>\n",
       "      <td>2.0</td>\n",
       "      <td>13.151650</td>\n",
       "      <td>0.044299</td>\n",
       "    </tr>\n",
       "    <tr>\n",
       "      <th>2</th>\n",
       "      <td>3.0</td>\n",
       "      <td>12.332132</td>\n",
       "      <td>0.037453</td>\n",
       "    </tr>\n",
       "    <tr>\n",
       "      <th>3</th>\n",
       "      <td>4.0</td>\n",
       "      <td>11.757226</td>\n",
       "      <td>0.018497</td>\n",
       "    </tr>\n",
       "    <tr>\n",
       "      <th>4</th>\n",
       "      <td>5.0</td>\n",
       "      <td>11.746949</td>\n",
       "      <td>0.013941</td>\n",
       "    </tr>\n",
       "    <tr>\n",
       "      <th>5</th>\n",
       "      <td>6.0</td>\n",
       "      <td>11.744537</td>\n",
       "      <td>0.013001</td>\n",
       "    </tr>\n",
       "    <tr>\n",
       "      <th>6</th>\n",
       "      <td>7.0</td>\n",
       "      <td>11.678692</td>\n",
       "      <td>0.010540</td>\n",
       "    </tr>\n",
       "    <tr>\n",
       "      <th>7</th>\n",
       "      <td>8.0</td>\n",
       "      <td>11.704715</td>\n",
       "      <td>0.010509</td>\n",
       "    </tr>\n",
       "    <tr>\n",
       "      <th>8</th>\n",
       "      <td>9.0</td>\n",
       "      <td>11.704715</td>\n",
       "      <td>0.010509</td>\n",
       "    </tr>\n",
       "    <tr>\n",
       "      <th>9</th>\n",
       "      <td>10.0</td>\n",
       "      <td>11.746949</td>\n",
       "      <td>0.009745</td>\n",
       "    </tr>\n",
       "    <tr>\n",
       "      <th>10</th>\n",
       "      <td>11.0</td>\n",
       "      <td>11.629882</td>\n",
       "      <td>0.009259</td>\n",
       "    </tr>\n",
       "    <tr>\n",
       "      <th>11</th>\n",
       "      <td>12.0</td>\n",
       "      <td>12.520671</td>\n",
       "      <td>0.008917</td>\n",
       "    </tr>\n",
       "    <tr>\n",
       "      <th>12</th>\n",
       "      <td>13.0</td>\n",
       "      <td>16.966743</td>\n",
       "      <td>0.008667</td>\n",
       "    </tr>\n",
       "    <tr>\n",
       "      <th>13</th>\n",
       "      <td>14.0</td>\n",
       "      <td>21.688615</td>\n",
       "      <td>0.008590</td>\n",
       "    </tr>\n",
       "    <tr>\n",
       "      <th>14</th>\n",
       "      <td>15.0</td>\n",
       "      <td>19.530264</td>\n",
       "      <td>0.008588</td>\n",
       "    </tr>\n",
       "  </tbody>\n",
       "</table>\n",
       "</div>"
      ],
      "text/plain": [
       "    Polynomial_order       Cost     Error\n",
       "0                1.0  12.127057  0.112723\n",
       "1                2.0  13.151650  0.044299\n",
       "2                3.0  12.332132  0.037453\n",
       "3                4.0  11.757226  0.018497\n",
       "4                5.0  11.746949  0.013941\n",
       "5                6.0  11.744537  0.013001\n",
       "6                7.0  11.678692  0.010540\n",
       "7                8.0  11.704715  0.010509\n",
       "8                9.0  11.704715  0.010509\n",
       "9               10.0  11.746949  0.009745\n",
       "10              11.0  11.629882  0.009259\n",
       "11              12.0  12.520671  0.008917\n",
       "12              13.0  16.966743  0.008667\n",
       "13              14.0  21.688615  0.008590\n",
       "14              15.0  19.530264  0.008588"
      ]
     },
     "execution_count": 52,
     "metadata": {},
     "output_type": "execute_result"
    }
   ],
   "source": [
    "df"
   ]
  },
  {
   "cell_type": "code",
   "execution_count": 53,
   "metadata": {},
   "outputs": [
    {
     "data": {
      "text/plain": [
       "Text(0, 0.5, 'Cost')"
      ]
     },
     "execution_count": 53,
     "metadata": {},
     "output_type": "execute_result"
    },
    {
     "data": {
      "image/png": "[encoded data removed]",
      "text/plain": [
       "<Figure size 864x576 with 1 Axes>"
      ]
     },
     "metadata": {},
     "output_type": "display_data"
    }
   ],
   "source": [
    "# plot the cost for different polynomial orders\n",
    "plt.figure(figsize=(12,8))\n",
    "ax = sns.lineplot(x=\"Polynomial_order\", y=\"Cost\", data=df)\n",
    "ax.axhline(cost_discreet, ls='--')\n",
    "ax.axhline(cost_discreet_all, ls='--')\n",
    "ax.set_xlabel('Degree of the polynomial')\n",
    "ax.set_ylabel('Cost')"
   ]
  },
  {
   "cell_type": "markdown",
   "metadata": {},
   "source": [
    "### 3.2 Plot PDF and CDF for the best fit"
   ]
  },
  {
   "cell_type": "code",
   "execution_count": 54,
   "metadata": {},
   "outputs": [
    {
     "name": "stdout",
     "output_type": "stream",
     "text": [
      "Polynomial_order    15.000000\n",
      "Cost                19.530264\n",
      "Error                0.008588\n",
      "Name: 14, dtype: float64 16\n",
      "(1.0000006798624583, 7.253694122126082e-07)\n"
     ]
    }
   ],
   "source": [
    "z = np.polyfit(x, yall, selected_order)\n",
    "pdf = get_pdf(x,z,bins)\n",
    "print(df.loc[df['Error'].idxmin()], selected_order)\n",
    "print(integrate.quad(pdf, x[0], x[-1], epsrel=1.49e-05))"
   ]
  },
  {
   "cell_type": "code",
   "execution_count": 55,
   "metadata": {},
   "outputs": [],
   "source": [
    "cdf = lambda val: get_cdf(pdf, x[0], val)"
   ]
  },
  {
   "cell_type": "code",
   "execution_count": 56,
   "metadata": {},
   "outputs": [
    {
     "name": "stderr",
     "output_type": "stream",
     "text": [
      "/opt/conda/lib/python3.7/site-packages/matplotlib/axes/_axes.py:6521: MatplotlibDeprecationWarning: \n",
      "The 'normed' kwarg was deprecated in Matplotlib 2.1 and will be removed in 3.1. Use 'density' instead.\n",
      "  alternative=\"'density'\", removal=\"3.1\")\n"
     ]
    },
    {
     "data": {
      "text/plain": [
       "Text(0, 0.5, 'Frequency')"
      ]
     },
     "execution_count": 56,
     "metadata": {},
     "output_type": "execute_result"
    },
    {
     "data": {
      "image/png": "[encoded data removed]",
      "text/plain": [
       "<Figure size 864x576 with 1 Axes>"
      ]
     },
     "metadata": {},
     "output_type": "display_data"
    }
   ],
   "source": [
    "plt.figure(figsize=(12,8))\n",
    "xp = np.linspace(x[0], x[-1], bins)\n",
    "ax = data.plot(kind='hist', bins=bins, normed=True, alpha=0.5)\n",
    "plt.plot(xp, pdf(xp), 'g--')\n",
    "ax.set_xlabel(u'Temp. (°C)')\n",
    "ax.set_ylabel('Frequency')"
   ]
  },
  {
   "cell_type": "code",
   "execution_count": 57,
   "metadata": {},
   "outputs": [
    {
     "data": {
      "text/plain": [
       "[<matplotlib.lines.Line2D at 0x7fe6c2d02438>]"
      ]
     },
     "execution_count": 57,
     "metadata": {},
     "output_type": "execute_result"
    },
    {
     "data": {
      "image/png": "[encoded data removed]",
      "text/plain": [
       "<Figure size 864x576 with 1 Axes>"
      ]
     },
     "metadata": {},
     "output_type": "display_data"
    }
   ],
   "source": [
    "plt.figure(figsize=(12,8))\n",
    "with warnings.catch_warnings():\n",
    "    warnings.simplefilter(\"ignore\")\n",
    "    cdf_plot = [cdf(i) for i in xp]\n",
    "plt.plot(xp, cdf_plot, 'g--')"
   ]
  },
  {
   "cell_type": "code",
   "execution_count": 58,
   "metadata": {},
   "outputs": [
    {
     "name": "stderr",
     "output_type": "stream",
     "text": [
      "/opt/conda/lib/python3.7/site-packages/matplotlib/axes/_axes.py:6521: MatplotlibDeprecationWarning: \n",
      "The 'normed' kwarg was deprecated in Matplotlib 2.1 and will be removed in 3.1. Use 'density' instead.\n",
      "  alternative=\"'density'\", removal=\"3.1\")\n"
     ]
    },
    {
     "data": {
      "text/plain": [
       "Text(0, 0.5, 'Frequency')"
      ]
     },
     "execution_count": 58,
     "metadata": {},
     "output_type": "execute_result"
    },
    {
     "data": {
      "image/png": "[encoded data removed]",
      "text/plain": [
       "<Figure size 864x576 with 1 Axes>"
      ]
     },
     "metadata": {},
     "output_type": "display_data"
    }
   ],
   "source": [
    "y, x = np.histogram(all_data, bins=bins, density=True)\n",
    "x = (x + np.roll(x, -1))[:-1] / 2.0\n",
    "plt.figure(figsize=(12,8))\n",
    "xp = np.linspace(x[0], x[-1], bins)\n",
    "ax = all_data.plot(kind='hist', bins=bins, normed=True, alpha=0.5)\n",
    "plt.plot(xp, pdf(xp), 'g--')\n",
    "ax.set_xlabel(u'Temp. (°C)')\n",
    "ax.set_ylabel('Frequency')"
   ]
  },
  {
   "cell_type": "code",
   "execution_count": null,
   "metadata": {},
   "outputs": [],
   "source": []
  }
 ],
 "metadata": {
  "kernelspec": {
   "display_name": "Python 3",
   "language": "python",
   "name": "python3"
  },
  "language_info": {
   "codemirror_mode": {
    "name": "ipython",
    "version": 3
   },
   "file_extension": ".py",
   "mimetype": "text/x-python",
   "name": "python",
   "nbconvert_exporter": "python",
   "pygments_lexer": "ipython3",
   "version": "3.7.3"
  }
 },
 "nbformat": 4,
 "nbformat_minor": 4
}
